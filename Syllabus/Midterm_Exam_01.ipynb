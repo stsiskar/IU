{
 "cells": [
  {
   "cell_type": "markdown",
   "metadata": {
    "slideshow": {
     "slide_type": "notes"
    }
   },
   "source": [
    "**Artificial Inteligence (CS550)**\n",
    "<br>\n",
    "Date: **19 February 2020**\n",
    "<br>\n",
    "Title: **Midterm Exam № 1**\n",
    "\n",
    "The exam will be evaluated at a maximum **20 points**. Each problem is **5 points**. \n",
    "Each subtask is  **1 point**."
   ]
  },
  {
   "cell_type": "markdown",
   "metadata": {
    "slideshow": {
     "slide_type": "slide"
    }
   },
   "source": [
    "<h3 align=\"center\">Problem 1: Matrix Norms</h3>\n",
    "\n",
    "Let's consider the matrix from the **Problem №4** of the **Homework №1**:\n",
    "\n",
    "$$A = \\begin{bmatrix}\n",
    "2 & -1 &  0\\\\ \n",
    "-1 & 1 & 1 \\\\\n",
    "0 & 1 & 2 \n",
    "\\end{bmatrix}.$$\n",
    "\n",
    "Calculate the following norms:\n",
    "1. $\\left \\| A \\right \\|_1$\n",
    "2. $\\left \\| A \\right \\|_\\infty$\n",
    "3. $\\left \\| A \\right \\|_{sum}$\n",
    "4. $\\left \\| A \\right \\|_{F}$\n",
    "5. $\\left \\| A \\right \\|_{*}$"
   ]
  },
  {
   "cell_type": "markdown",
   "metadata": {
    "slideshow": {
     "slide_type": "slide"
    }
   },
   "source": [
    "<h3 align=\"center\">Problem 2: Naive Bayes Classifier</h3>\n",
    "\n",
    "Given the symptoms and diagnoses of several examined patients:\n",
    "\n",
    "\n",
    "| Chills | Runny nose | Headache | Fever | Flu? |\n",
    "|:------:|------------|----------|-------|------|\n",
    "|   Yes  |     No     |   Mild   |  Yes  |  No  |\n",
    "|   Yes  |     Yes    |   Week   |   No  |  Yes |\n",
    "|   Yes  |     No     |  Strong  |  Yes  |  Yes |\n",
    "|   No   |     Yes    |   Mild   |  Yes  |  Yes |\n",
    "|   No   |     No     |   Week   |   No  |  No  |\n",
    "|   No   |     Yes    |  Strong  |  Yes  |  Yes |\n",
    "|   No   |     Yes    |  Strong  |   No  |  No  |\n",
    "|   Yes  |     Yes    |   Mild   |  Yes  |  Yes |\n",
    "\n",
    "Suppose that we have a new patient with **chill**, **mild headache** and **fever**, what is the probability that he has a **flu**?\n",
    "\n",
    "Perform the next steps:\n",
    "\n",
    "1. Define the subsets $B_i$: $B = B_1 \\cup  B_2 \\cup \\cdots  \\cup  B_n$ and $A$;\n",
    "2. Calculate the individual probabilities with respect to each feature of interest;\n",
    "3. Apply **Laplace smoothing** if needed;\n",
    "4. Calculate the total probability for $A$ and $\\overline{A}$;\n",
    "5. Obtain the final probability.\n"
   ]
  },
  {
   "cell_type": "markdown",
   "metadata": {
    "slideshow": {
     "slide_type": "slide"
    }
   },
   "source": [
    "<h3 align=\"center\">Problem 3: Finding the Extrema</h3>\n",
    "\n",
    "Find the extrema (extreme values) of the function:\n",
    "\n",
    "$$z = x^2 - 4xy + 8 y^2$$\n",
    "\n",
    "by performing the steps:\n",
    "\n",
    "1. Compute the **gradient** of the function, i.e. the **first order partial derivatives**:\n",
    "\n",
    "$$\\nabla z(x,y) = \\left \\{ \\frac{\\partial z(x,y)}{ \\partial x}, \\frac{\\partial z(x,y)}{ \\partial y} \\right \\};$$\n",
    "\n",
    "2. Validate that:\n",
    "\n",
    "$$\\frac{\\partial^2 z}{ \\partial x \\partial y} = \\frac{\\partial^2 z}{ \\partial y \\partial x};$$\n",
    "\n",
    "3. Find the **critical points** $z_i = (x_i, y_i)$ from the equation: \n",
    "\n",
    "$$\n",
    "\\nabla z(x,y) = 0 \\Rightarrow\n",
    "\\left\\{\\begin{matrix}\n",
    "\\frac{\\partial z(x,y)}{\\partial x} = 0\\\\ \n",
    "\\frac{\\partial z(x,y)}{\\partial y} = 0\n",
    "\\end{matrix}\\right.\n",
    ";$$\n",
    "\n",
    "4. Find the **second order partial derivatives** $\\frac{\\partial^2 z}{ \\partial x^2}$ and $\\frac{\\partial^2 z}{ \\partial y^2}$;\n",
    "\n",
    "5. For each critical point $z_i = (x_i, y_i)$ build the **Hessian Matrix**: \n",
    "\n",
    "$$\n",
    "\\begin{bmatrix}\n",
    "\\frac{\\partial^2 z}{\\partial x^2}(x_i,y_i) & \\frac{\\partial^2 z}{\\partial y \\partial x}(x_i,y_i)\\\\ \n",
    "\\frac{\\partial^2 z}{\\partial x \\partial y}(x_i,y_i) & \\frac{\\partial^2 z}{\\partial y^2}(x_i,y_i) \n",
    "\\end{bmatrix}\n",
    ",$$\n",
    "\n",
    "&emsp; &ensp; calculate the eigenvalues and categorize the critical points, i.e. **local minimum**, **local maximum** or **saddle point**.\n"
   ]
  },
  {
   "cell_type": "markdown",
   "metadata": {
    "slideshow": {
     "slide_type": "slide"
    }
   },
   "source": [
    "<h3 align=\"center\">Problem 4: Automatic Differentiation</h3>\n",
    "\n",
    "Consider the function: $$z(x, y) = \\cos{x}\\cdot \\sin{y} + \\frac{x}{y}.$$\n",
    "\n",
    "1. Build a **computation grap** and calculate the values for each node, propagating from the bottom (the input variables) to the top (the output function) at point $A = (2, 1)$.\n",
    "\n",
    "2. Consider the seed values $\\dot{w}_1 = \\frac{\\partial w_1}{\\partial y} = 0$ and $\\dot{w}_2 = \\frac{\\partial w_2}{\\partial y} = 1$, and calculate the partial derivatives of each connection between operations, represented by the edges, i.e. $\\dot{w}_i = \\frac{\\partial w_i}{\\partial y}$.\n",
    "\n",
    "3. Calculate the partial derivative $\\frac{\\partial z}{\\partial y}$ at point $A = (2, 1)$ using the **forward accumulation**.\n",
    "\n",
    "4. Consider the seed values $\\bar{w}_n = \\frac{\\partial z}{\\partial w_n} = 1$ and calculate the subexpresion varibales $\\bar{w}_i$ for each connection between operations, i.e. $\\bar{w}_i = \\frac{\\partial z}{\\partial w_i}$.\n",
    "\n",
    "5. Calculate the partial derivative $\\frac{\\partial z}{\\partial y}$ at point $A = (2, 1)$ using the **reverse accumulation**."
   ]
  }
 ],
 "metadata": {
  "celltoolbar": "Slideshow",
  "kernelspec": {
   "display_name": "Python 3",
   "language": "python",
   "name": "python3"
  },
  "language_info": {
   "codemirror_mode": {
    "name": "ipython",
    "version": 3
   },
   "file_extension": ".py",
   "mimetype": "text/x-python",
   "name": "python",
   "nbconvert_exporter": "python",
   "pygments_lexer": "ipython3",
   "version": "3.7.3"
  }
 },
 "nbformat": 4,
 "nbformat_minor": 2
}
