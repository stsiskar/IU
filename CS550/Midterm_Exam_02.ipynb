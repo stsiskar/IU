{
 "cells": [
  {
   "cell_type": "markdown",
   "metadata": {
    "slideshow": {
     "slide_type": "notes"
    }
   },
   "source": [
    "**Artificial Inteligence (CS550)**\n",
    "<br>\n",
    "Date: **2 May 2020**\n",
    "<br>\n",
    "Title: **Midterm Exam № 2**\n",
    "\n",
    "The exam will be evaluated at a maximum **20 points**. Each problem is **5 points**. \n",
    "Each subtask is  **1 point**."
   ]
  },
  {
   "cell_type": "markdown",
   "metadata": {
    "slideshow": {
     "slide_type": "slide"
    }
   },
   "source": [
    "<h3 align=\"center\">Problem 1: The Multi-Class Cofusion Matrix</h3>\n",
    "\n",
    "- Given a **confusion matrix** for some classifier:\n",
    "\n",
    "\n",
    "<img src=\"images/ME2_P1.png\" width=\"300\" alt=\"Example\" />\n",
    "\n",
    "\n",
    "- **Problem statement**:\n",
    "  \n",
    "  Calculate the following **metrics**:\n",
    "  1. The number of **True Positive** predictions (**overall**);\n",
    "  2. The number of **False Positive** predictions for **class A**.\n",
    "  3. The **True Positive Rate** for the **class A**.\n",
    "  4. **Precision** for the **class A**.\n",
    "  5. **Accuracy** of the classifier."
   ]
  },
  {
   "cell_type": "markdown",
   "metadata": {
    "slideshow": {
     "slide_type": "slide"
    }
   },
   "source": [
    "<h3 align=\"center\">Problem 2: The Perceptron Algorithm</h3>\n",
    "\n",
    "-  Given the **OR Gate**. The **Gate returns 0**  if and only if **both inputs are False**:\n",
    "\n",
    "|              | $x_1$ | $x_2$ | $t$ |\n",
    "|:------------:|:-----:|:-----:|:---:|\n",
    "|$\\mathbf{x}_1$|   0   |   0   |  0  |\n",
    "|$\\mathbf{x}_2$|   0   |   1   |  1  |\n",
    "|$\\mathbf{x}_3$|   1   |   0   |  1  |\n",
    "|$\\mathbf{x}_4$|   1   |   1   |  1  |\n",
    "\n",
    "- So we have two clases ($K = 2$) and target values $t \\in \\{0, 1\\}$.\n",
    "- The **initial weights** are set to be equal to equal to $w_1 = 0.5$ and $w_2 = 0.5$.\n",
    "- The **activation threshold**  is equal to $T = 0.7$.\n",
    "- The **learning rate** is equal to $\\eta = 0.3$.\n",
    "\n",
    "\n",
    "- **Problem statement**:\n",
    "\n",
    "  Apply **perceptron learning procedure** for **OR Gate** using the **feed forward procedure**: \n",
    "  1. **Apply $1^{st}$ instance** to the perceptron and **update the weights if needed**;\n",
    "  2. **Apply $2^{nd}$ instance** to the perceptron and **update the weights if needed**;\n",
    "  3. **Apply $3^{rd}$ instance** to the perceptron and **update the weights if needed**;\n",
    "  4. **Apply $4^{th}$ instance** to the perceptron and **update the weights if needed**;\n",
    "  5. **Continue this procedure** until the **completion of the learning**."
   ]
  },
  {
   "cell_type": "markdown",
   "metadata": {
    "slideshow": {
     "slide_type": "slide"
    }
   },
   "source": [
    "<h3 align=\"center\">Problem 3: $K$-means Algorithm</h3>\n",
    "\n",
    "- Lets assume that our **input space** consist of **data points** $\\mathbf{x}_1, \\mathbf{x}_2, ..., \\mathbf{x}_N$, where $\\mathbf{x}_n = (x_n, y_n) \\in \\mathbb{R}^2$ for $n = 1, ..., N$.\n",
    "\n",
    "- **Number of Clusters** is equal to $K = 2$.\n",
    "\n",
    "- **Each student has his own data set** represented in the tables below (the **initial center of the clusters are also included**):\n",
    "\n",
    "\n",
    "---\n",
    "\n",
    "| **Devadze David** | $x$ | $y$ |\n",
    "|:-----------------:|:---:|:---:|\n",
    "| $\\mathbf{x}_1$    |  1  |  1  |\n",
    "| $\\mathbf{x}_2$    |  1  |  2  |\n",
    "| $\\mathbf{x}_3$    |  2  |  1  |\n",
    "| $\\mathbf{x}_4$    |  2  |  3  |\n",
    "| $\\mathbf{x}_5$    |  3  |  2  |\n",
    "| $\\mathbf{x}_6$    |  3  |  3  |\n",
    "| $\\mu_1$           |  1  |  1  |\n",
    "| $\\mu_2$           |  2  |  3  |\n",
    "\n",
    "---\n",
    "\n",
    "| **Gochitashvili Tamaz** | $x$ | $y$ |\n",
    "|:-----------------------:|:---:|:---:|\n",
    "| $\\mathbf{x}_1$          |  1  |  1  |\n",
    "| $\\mathbf{x}_2$          |  1  |  2  |\n",
    "| $\\mathbf{x}_3$          |  2  |  1  |\n",
    "| $\\mathbf{x}_4$          |  2  |  3  |\n",
    "| $\\mathbf{x}_5$          |  3  |  2  |\n",
    "| $\\mathbf{x}_6$          |  3  |  3  |\n",
    "| $\\mu_1$                 |  1  |  1  |\n",
    "| $\\mu_2$                 |  3  |  2  |\n",
    "\n",
    "---\n",
    "\n",
    "| **Khvedelidze\tNika** | $x$ | $y$ |\n",
    "|:--------------------:|:---:|:---:|\n",
    "| $\\mathbf{x}_1$       |  1  |  1  |\n",
    "| $\\mathbf{x}_2$       |  1  |  2  |\n",
    "| $\\mathbf{x}_3$       |  2  |  1  |\n",
    "| $\\mathbf{x}_4$       |  2  |  3  |\n",
    "| $\\mathbf{x}_5$       |  3  |  2  |\n",
    "| $\\mathbf{x}_6$       |  3  |  3  |\n",
    "| $\\mu_1$              |  3  |  3  |\n",
    "| $\\mu_2$              |  1  |  2  |\n",
    "\n",
    "---\n",
    "\n",
    "| **Mamisashvili Lizi** | $x$ | $y$ |\n",
    "|:---------------------:|:---:|:---:|\n",
    "| $\\mathbf{x}_1$        |  1  |  1  |\n",
    "| $\\mathbf{x}_2$        |  1  |  2  |\n",
    "| $\\mathbf{x}_3$        |  2  |  1  |\n",
    "| $\\mathbf{x}_4$        |  2  |  3  |\n",
    "| $\\mathbf{x}_5$        |  3  |  2  |\n",
    "| $\\mathbf{x}_6$        |  3  |  3  |\n",
    "| $\\mu_1$               |  3  |  3  |\n",
    "| $\\mu_2$               |  2  |  1  |\n",
    "\n",
    "---\n",
    "\n",
    "|   **Managadze\tZaza**   | $x$ | $y$ |\n",
    "|:-----:|:---:|:---:|\n",
    "|   $\\mathbf{x}_1$   | 1 | 2 |\n",
    "|   $\\mathbf{x}_2$   | 2 | 1 |\n",
    "|   $\\mathbf{x}_3$   | 2 | 3 |\n",
    "|   $\\mathbf{x}_4$   | 3 | 2 |\n",
    "|   $\\mathbf{x}_5$   | 3 | 3 |\n",
    "| $\\mu_1$ | 3 | 3 |\n",
    "| $\\mu_2$ | 1 | 2 |\n",
    "\n",
    "---\n",
    "\n",
    "| **Menteshashvili Tamar** | $x$ | $y$ |\n",
    "|:------------------------:|:---:|:---:|\n",
    "| $\\mathbf{x}_1$           |  1  |  2  |\n",
    "| $\\mathbf{x}_2$           |  2  |  1  |\n",
    "| $\\mathbf{x}_3$           |  2  |  3  |\n",
    "| $\\mathbf{x}_4$           |  3  |  2  |\n",
    "| $\\mathbf{x}_5$           |  3  |  3  |\n",
    "| $\\mu_1$                  |  3  |  3  |\n",
    "| $\\mu_2$                  |  2  |  1  |\n",
    "\n",
    "---\n",
    "\n",
    "| **Mikava Temuri** | $x$ | $y$ |\n",
    "|:-----------------:|:---:|:---:|\n",
    "| $\\mathbf{x}_1$    |  1  |  2  |\n",
    "| $\\mathbf{x}_2$    |  2  |  1  |\n",
    "| $\\mathbf{x}_3$    |  2  |  2  |\n",
    "| $\\mathbf{x}_4$    |  2  |  3  |\n",
    "| $\\mathbf{x}_5$    |  3  |  2  |\n",
    "| $\\mathbf{x}_6$    |  3  |  3  |\n",
    "| $\\mu_1$           |  3  |  3  |\n",
    "| $\\mu_2$           |  1  |  2  |\n",
    "\n",
    "---\n",
    "\n",
    "| **Sanadiradze Levan** | $x$ | $y$ |\n",
    "|:---------------------:|:---:|:---:|\n",
    "| $\\mathbf{x}_1$        |  1  |  2  |\n",
    "| $\\mathbf{x}_2$        |  2  |  1  |\n",
    "| $\\mathbf{x}_3$        |  2  |  2  |\n",
    "| $\\mathbf{x}_4$        |  2  |  3  |\n",
    "| $\\mathbf{x}_5$        |  3  |  2  |\n",
    "| $\\mathbf{x}_6$        |  3  |  3  |\n",
    "| $\\mu_1$               |  3  |  3  |\n",
    "| $\\mu_2$               |  2  |  1  |\n",
    "\n",
    "---\n",
    "\n",
    "| **Shishniashvili Erekle** | $x$ | $y$ |\n",
    "|:-------------------------:|:---:|:---:|\n",
    "| $\\mathbf{x}_1$            |  1  |  1  |\n",
    "| $\\mathbf{x}_2$            |  1  |  2  |\n",
    "| $\\mathbf{x}_3$            |  1  |  3  |\n",
    "| $\\mathbf{x}_4$            |  2  |  1  |\n",
    "| $\\mathbf{x}_5$            |  3  |  2  |\n",
    "| $\\mathbf{x}_6$            |  3  |  3  |\n",
    "| $\\mu_1$                   |  1  |  1  |\n",
    "| $\\mu_2$                   |  3  |  2  |\n",
    "\n",
    "---\n",
    "\n",
    "| **Shugliashvili Levan**   | $x$ | $y$ |\n",
    "|:-------------------------:|:---:|:---:|\n",
    "| $\\mathbf{x}_1$            |  1  |  1  |\n",
    "| $\\mathbf{x}_2$            |  1  |  2  |\n",
    "| $\\mathbf{x}_3$            |  1  |  3  |\n",
    "| $\\mathbf{x}_4$            |  2  |  1  |\n",
    "| $\\mathbf{x}_5$            |  3  |  2  |\n",
    "| $\\mathbf{x}_6$            |  3  |  3  |\n",
    "| $\\mu_1$                   |  1  |  2  |\n",
    "| $\\mu_2$                   |  3  |  3  |\n",
    "\n",
    "---\n",
    "\n",
    "\n",
    "- **Problem Statement**:\n",
    "  1. **Plot the data points** on the $(X,Y)$ coordinate plane;\n",
    "  2. **Calculate the distance** between the **each data point** and the centers of **each clusters**;\n",
    "  3. **Assign** each **data point** to the corresponding **cluster**;\n",
    "  4. **Recalculate** the **new centers locations** of the **clusters**;\n",
    "  5. **Repeat steps 2 and 4** until the **algorithm converges**."
   ]
  },
  {
   "cell_type": "markdown",
   "metadata": {
    "slideshow": {
     "slide_type": "slide"
    }
   },
   "source": [
    "<h3 align=\"center\">Problem 4: Decision Tree</h3>\n",
    "\n",
    "- Given the **symptoms** and **diagnoses** of several examined patients:\n",
    "\n",
    "| Fever | Chills | Headache | Flu? |\n",
    "|:-----:|:------:|:--------:|:----:|\n",
    "|  Yes  |   Yes  |   Mild   |  No  |\n",
    "|   No  |   Yes  |   Week   |  Yes |\n",
    "|  Yes  |   Yes  |  Strong  |  Yes |\n",
    "|  Yes  |   No   |   Mild   |  Yes |\n",
    "|   No  |   No   |   Week   |  No  |\n",
    "|  Yes  |   No   |  Strong  |  Yes |\n",
    "|   No  |   No   |  Strong  |  No  |\n",
    "\n",
    "- **Problem Statement**:\n",
    "\n",
    "  Build **decision tree** using **ID3 algorithm** for classification:\n",
    "  1. **Find** the **entropy** of class variable;\n",
    "  2. **Calculate** the **avarage weighted entropy** for each feature;\n",
    "  3. **Find** the **information gain** for each feature;\n",
    "  4. **Select** the **feature** having the **largest entropy gain** and **split** the **data table**.\n",
    "  5. **Repeat** the steps and  **find the next (all) nodes** in for the decision tree.\n",
    "  "
   ]
  },
  {
   "cell_type": "code",
   "execution_count": null,
   "metadata": {},
   "outputs": [],
   "source": [
    "import numpy as np\n",
    "\n",
    "def Ent(x, y):\n",
    "    if x == 0 or y == 0:\n",
    "        z = 0\n",
    "    else:\n",
    "        z = -( x / (x + y) * np.log2(x / (x + y)) + y / (x + y) * np.log2(y / (x + y)))\n",
    "    return z"
   ]
  },
  {
   "cell_type": "code",
   "execution_count": null,
   "metadata": {},
   "outputs": [],
   "source": [
    "Y = \n",
    "N = \n",
    "T = Y + N\n",
    "\n",
    "E_S =  - ( Y/T * np.log2(Y/T) + N/T * np.log2(N/T) )\n",
    "E_S"
   ]
  },
  {
   "cell_type": "code",
   "execution_count": null,
   "metadata": {},
   "outputs": [],
   "source": [
    "YY = \n",
    "YN = \n",
    "NY = \n",
    "NN = \n",
    "\n",
    "YA = YY + YN\n",
    "NA = NY + NN\n",
    "TA = YA + NA\n",
    "\n",
    "E_SA =  YA/TA * Ent(YY, YN) + NA/TA * Ent(NY, NN)\n",
    "E_SA"
   ]
  },
  {
   "cell_type": "code",
   "execution_count": null,
   "metadata": {
    "scrolled": true
   },
   "outputs": [],
   "source": [
    "IG = E_S - E_SA"
   ]
  },
  {
   "cell_type": "code",
   "execution_count": null,
   "metadata": {},
   "outputs": [],
   "source": [
    "WY = \n",
    "WN = \n",
    "MY = \n",
    "MN = \n",
    "SY =\n",
    "SN =\n",
    "\n",
    "WA = WY + WN\n",
    "MA = MY + MN\n",
    "SA = SY + SN\n",
    "TA = WA + MA + SA\n",
    "\n",
    "E_SA =  WA/TA * Ent(WY, WN) + MA/TA * Ent(MY, MN) + SA/TA * Ent(SY, SN)\n",
    "\n",
    "IG = E_S - E_SA"
   ]
  }
 ],
 "metadata": {
  "celltoolbar": "Slideshow",
  "kernelspec": {
   "display_name": "Python 3",
   "language": "python",
   "name": "python3"
  },
  "language_info": {
   "codemirror_mode": {
    "name": "ipython",
    "version": 3
   },
   "file_extension": ".py",
   "mimetype": "text/x-python",
   "name": "python",
   "nbconvert_exporter": "python",
   "pygments_lexer": "ipython3",
   "version": "3.7.3"
  }
 },
 "nbformat": 4,
 "nbformat_minor": 2
}
