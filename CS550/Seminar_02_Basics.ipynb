{
 "cells": [
  {
   "cell_type": "markdown",
   "metadata": {
    "slideshow": {
     "slide_type": "notes"
    }
   },
   "source": [
    "**Artificial Inteligence (CS550)**\n",
    "<br>\n",
    "Date: **29 January 2020**\n",
    "<br>\n",
    "Location: **SU, NEW STEM building**\n",
    "<br>\n",
    "Room: **304**\n",
    "\n",
    "Title: **Seminar №2**\n",
    "<br>\n",
    "Speaker: **Dr. Shota Tsiskaridze**"
   ]
  },
  {
   "cell_type": "code",
   "execution_count": null,
   "metadata": {
    "slideshow": {
     "slide_type": "skip"
    }
   },
   "outputs": [],
   "source": [
    "%load_ext autoreload\n",
    "%autoreload 2\n",
    "\n",
    "%matplotlib inline"
   ]
  },
  {
   "cell_type": "markdown",
   "metadata": {
    "slideshow": {
     "slide_type": "slide"
    }
   },
   "source": [
    "<h3 align=\"center\">Basics</h3>"
   ]
  },
  {
   "cell_type": "code",
   "execution_count": 1,
   "metadata": {},
   "outputs": [],
   "source": [
    "import numpy as np"
   ]
  },
  {
   "cell_type": "code",
   "execution_count": 2,
   "metadata": {},
   "outputs": [
    {
     "data": {
      "text/plain": [
       "array([[1., 0., 0.],\n",
       "       [0., 1., 0.],\n",
       "       [0., 0., 1.]])"
      ]
     },
     "execution_count": 2,
     "metadata": {},
     "output_type": "execute_result"
    }
   ],
   "source": [
    "# how to define identity matrix\n",
    "I = np.identity(3)\n",
    "I"
   ]
  },
  {
   "cell_type": "code",
   "execution_count": 23,
   "metadata": {},
   "outputs": [
    {
     "data": {
      "text/plain": [
       "(array([[1, 1, 1],\n",
       "        [1, 1, 1],\n",
       "        [1, 1, 1]]), array([[2, 2, 2],\n",
       "        [2, 2, 2],\n",
       "        [2, 2, 2]]), 10)"
      ]
     },
     "execution_count": 23,
     "metadata": {},
     "output_type": "execute_result"
    }
   ],
   "source": [
    "#Let's define matrices A and B, and scalar alpha\n",
    "\n",
    "A = np.array([[1, 1, 1], [1, 1, 1], [1, 1, 1]])\n",
    "B = np.array([[2, 2, 2], [2, 2, 2], [2, 2, 2]])\n",
    "alpha = 10\n",
    "\n",
    "A, B, alpha"
   ]
  },
  {
   "cell_type": "code",
   "execution_count": 24,
   "metadata": {},
   "outputs": [
    {
     "data": {
      "text/plain": [
       "array([[3, 3, 3],\n",
       "       [3, 3, 3],\n",
       "       [3, 3, 3]])"
      ]
     },
     "execution_count": 24,
     "metadata": {},
     "output_type": "execute_result"
    }
   ],
   "source": [
    "# we can sum two matries\n",
    "A + B"
   ]
  },
  {
   "cell_type": "code",
   "execution_count": 25,
   "metadata": {},
   "outputs": [
    {
     "data": {
      "text/plain": [
       "array([[10, 10, 10],\n",
       "       [10, 10, 10],\n",
       "       [10, 10, 10]])"
      ]
     },
     "execution_count": 25,
     "metadata": {},
     "output_type": "execute_result"
    }
   ],
   "source": [
    "# multiply A on alpha\n",
    "\n",
    "alpha * A"
   ]
  },
  {
   "cell_type": "code",
   "execution_count": 26,
   "metadata": {
    "scrolled": true
   },
   "outputs": [
    {
     "data": {
      "text/plain": [
       "array([[6, 6, 6],\n",
       "       [6, 6, 6],\n",
       "       [6, 6, 6]])"
      ]
     },
     "execution_count": 26,
     "metadata": {},
     "output_type": "execute_result"
    }
   ],
   "source": [
    "#multiply A on B\n",
    "A @ B"
   ]
  },
  {
   "cell_type": "code",
   "execution_count": 30,
   "metadata": {},
   "outputs": [
    {
     "data": {
      "text/plain": [
       "array([[0.94591042, 0.08649964, 0.53762974],\n",
       "       [0.86489987, 0.72747787, 0.38343153],\n",
       "       [0.71207434, 0.54730433, 0.75737634]])"
      ]
     },
     "execution_count": 30,
     "metadata": {},
     "output_type": "execute_result"
    }
   ],
   "source": [
    "# define random matrices C\n",
    "C = np.random.random(size=(3, 3))\n",
    "C"
   ]
  },
  {
   "cell_type": "code",
   "execution_count": 31,
   "metadata": {},
   "outputs": [
    {
     "data": {
      "text/plain": [
       "array([[ 1.28425777,  0.86114308, -1.34760558],\n",
       "       [-1.43824695,  1.25585991,  0.38515601],\n",
       "       [-0.1681175 , -1.71715881,  2.30902089]])"
      ]
     },
     "execution_count": 31,
     "metadata": {},
     "output_type": "execute_result"
    }
   ],
   "source": [
    "# calculate the invrese of C\n",
    "invC = np.linalg.inv(C)\n",
    "invC"
   ]
  },
  {
   "cell_type": "code",
   "execution_count": 32,
   "metadata": {
    "scrolled": true
   },
   "outputs": [
    {
     "data": {
      "text/plain": [
       "array([[ 1., -0., -0.],\n",
       "       [ 0.,  1.,  0.],\n",
       "       [ 0.,  0.,  1.]])"
      ]
     },
     "execution_count": 32,
     "metadata": {},
     "output_type": "execute_result"
    }
   ],
   "source": [
    "# validate the inversion\n",
    "I = invC @ C\n",
    "np.round(I)"
   ]
  },
  {
   "cell_type": "code",
   "execution_count": 120,
   "metadata": {
    "scrolled": true
   },
   "outputs": [
    {
     "data": {
      "text/plain": [
       "-0.44260634026305207"
      ]
     },
     "execution_count": 120,
     "metadata": {},
     "output_type": "execute_result"
    }
   ],
   "source": [
    "# calculate A matrix determinant\n",
    "\n",
    "A = np.random.random(size=(3, 3))\n",
    "detA = np.linalg.det(A)\n",
    "detA"
   ]
  },
  {
   "cell_type": "code",
   "execution_count": 122,
   "metadata": {
    "scrolled": true
   },
   "outputs": [
    {
     "data": {
      "text/plain": [
       "array([[0.05320381, 0.47885094, 0.87906641],\n",
       "       [0.97329283, 0.9441543 , 0.77899895],\n",
       "       [0.98969944, 0.24469809, 0.78958181]])"
      ]
     },
     "execution_count": 122,
     "metadata": {},
     "output_type": "execute_result"
    }
   ],
   "source": [
    "# perform the eigenvalue decomposition\n",
    "\n",
    "A = np.random.random(size=(3, 3))\n",
    "A"
   ]
  },
  {
   "cell_type": "code",
   "execution_count": 123,
   "metadata": {
    "scrolled": true
   },
   "outputs": [
    {
     "data": {
      "text/plain": [
       "(array([[-0.41527766, -0.81785971,  0.04552174],\n",
       "        [-0.76067446,  0.24491543, -0.86847113],\n",
       "        [-0.49891766,  0.5206937 ,  0.49364528]]),\n",
       " array([[ 1.98644394,  0.        ,  0.        ],\n",
       "        [ 0.        , -0.64985361,  0.        ],\n",
       "        [ 0.        ,  0.        ,  0.45034958]]),\n",
       " array([[-0.41527766, -0.76067446, -0.49891766],\n",
       "        [-0.81785971,  0.24491543,  0.5206937 ],\n",
       "        [ 0.04552174, -0.86847113,  0.49364528]]))"
      ]
     },
     "execution_count": 123,
     "metadata": {},
     "output_type": "execute_result"
    }
   ],
   "source": [
    "eVal, eVec = np.linalg.eig(A)\n",
    "Q = eVec\n",
    "L = np.diag(eVal)          # remember that L is a vector of eigenvalues\n",
    "Q_T = eVec.T\n",
    "Q, L, Q_T"
   ]
  },
  {
   "cell_type": "code",
   "execution_count": 124,
   "metadata": {
    "scrolled": true
   },
   "outputs": [
    {
     "data": {
      "text/plain": [
       "array([ 1.98644394, -0.64985361,  0.45034958])"
      ]
     },
     "execution_count": 124,
     "metadata": {},
     "output_type": "execute_result"
    }
   ],
   "source": [
    "# create lambda matrix\n",
    "np.diag(L)"
   ]
  },
  {
   "cell_type": "code",
   "execution_count": 125,
   "metadata": {},
   "outputs": [
    {
     "data": {
      "text/plain": [
       "(array([[0.05320381, 0.47885094, 0.87906641],\n",
       "        [0.97329283, 0.9441543 , 0.77899895],\n",
       "        [0.98969944, 0.24469809, 0.78958181]]),\n",
       " array([[ 0.07865179,  0.67874859, -0.57777668],\n",
       "        [ 0.67874859,  1.41184053,  0.180026  ],\n",
       "        [-0.57777668,  0.180026  , -0.37628685]]))"
      ]
     },
     "execution_count": 125,
     "metadata": {},
     "output_type": "execute_result"
    }
   ],
   "source": [
    "A, Q_T @ L @ Q"
   ]
  },
  {
   "cell_type": "code",
   "execution_count": 126,
   "metadata": {
    "scrolled": false
   },
   "outputs": [
    {
     "data": {
      "text/plain": [
       "(array([[-0.62, -0.79],\n",
       "        [-0.79,  0.62]]),\n",
       " array([1.57, 0.24]),\n",
       " array([[-0.49, -0.29, -0.15, -0.81],\n",
       "        [ 0.85, -0.12,  0.11, -0.5 ],\n",
       "        [-0.17,  0.01,  0.98, -0.08],\n",
       "        [ 0.03, -0.95,  0.04,  0.31]]),\n",
       " (2, 2),\n",
       " (2,),\n",
       " (4, 4))"
      ]
     },
     "execution_count": 126,
     "metadata": {},
     "output_type": "execute_result"
    }
   ],
   "source": [
    "# perfomr Singular Value Decomposition\n",
    "\n",
    "A = np.random.random(size=(2, 4))\n",
    "U, S, V_T = np.linalg.svd(A)\n",
    "U = np.round(U, 2)\n",
    "S = np.round(S, 2)\n",
    "V_T = np.round(V_T, 2)\n",
    "U, S, V_T, U.shape, S.shape, V_T.shape"
   ]
  }
 ],
 "metadata": {
  "kernelspec": {
   "display_name": "Python 3",
   "language": "python",
   "name": "python3"
  },
  "language_info": {
   "codemirror_mode": {
    "name": "ipython",
    "version": 3
   },
   "file_extension": ".py",
   "mimetype": "text/x-python",
   "name": "python",
   "nbconvert_exporter": "python",
   "pygments_lexer": "ipython3",
   "version": "3.7.3"
  }
 },
 "nbformat": 4,
 "nbformat_minor": 2
}
