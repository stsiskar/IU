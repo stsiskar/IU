{
 "cells": [
  {
   "cell_type": "markdown",
   "metadata": {
    "slideshow": {
     "slide_type": "notes"
    }
   },
   "source": [
    "**Artificial Inteligence (CS550)**\n",
    "<br>\n",
    "Date: **17 February 2020**\n",
    "<br>\n",
    "Title: **Midterm Exam №1: Preparation**\n",
    "<br>\n",
    "Speaker: **Dr. Shota Tsiskaridze**"
   ]
  },
  {
   "cell_type": "markdown",
   "metadata": {
    "slideshow": {
     "slide_type": "slide"
    }
   },
   "source": [
    "<h3 align=\"center\">Problem 1: Matrix Norms</h3>\n",
    "\n",
    "Let's consider the matrix from the **Problem №4** of the **Homework №1**:\n",
    "\n",
    "$$A = \\begin{bmatrix}\n",
    "4 & 2 &  2 & 1\\\\ \n",
    "0 & 2 & -1 & -2 \n",
    "\\end{bmatrix}.$$\n",
    "\n",
    "Obtain the following norms: $\\left \\| A \\right \\|_1, \\left \\| A \\right \\|_2, \\left \\| A \\right \\|_\\infty, \\left \\| A \\right \\|_{sum}, \\left \\| A \\right \\|_F, \\left \\| A \\right \\|_{max}, \\left \\| A \\right \\|_{*}$."
   ]
  },
  {
   "cell_type": "markdown",
   "metadata": {
    "slideshow": {
     "slide_type": "subslide"
    }
   },
   "source": [
    "<h3 align=\"center\">Solution of Problem 1</h3>\n",
    "\n",
    "$\\bullet$     $\\left \\| A \\right \\|_1 = max(4 + 0; 2 + 2; 2 + |-1|; 1 + |-2|) = max(4, 4, 3, 3) = 4$\n",
    "<br>$\\bullet$ $\\left \\| A \\right \\|_2 = max(5; 3) = 5$;\n",
    "<br>$\\bullet$ $\\left \\| A \\right \\|_\\infty = max(5 + 6 + 3; |-1| + 0 + 1; 1 + 3 + |-1|) = max(14, 2, 5) = 14;$\n",
    "<br>$\\bullet$ $\\left \\| A \\right \\|_{sum} = 4 + 2 + 2 + 1 + 0 + 2 + |-1| + |-2| = 14;$\n",
    "<br>$\\bullet$ $\\left \\| A \\right \\|_F = \\sqrt{4^2 + 2^2 + 2^2 + 1^2 + 0^2 + 2^2 + |-1|^2 + |-2|^2} = \\sqrt{34};$\n",
    "<br>$\\bullet$ $\\left \\| A \\right \\|_{max} = max(4; 2; 2; 1; 0; 2; |-1|; |-2|) = 4;$\n",
    "<br>$\\bullet$ $\\left \\| A \\right \\|_{*} = 5 + 3 = 8;$"
   ]
  },
  {
   "cell_type": "markdown",
   "metadata": {
    "slideshow": {
     "slide_type": "slide"
    }
   },
   "source": [
    "<h3 align=\"center\">Problem 2: Naive Bayes Classifier</h3>\n",
    "\n",
    "Suppose we want to build a classifier that says whether a text is about sports or not.\n",
    "\n",
    "|            **Text**            | **Tag** |\n",
    "|:-------------------------------|:----------:|\n",
    "| “A great game”                 | Sports        |\n",
    "| “The election was over”        | Not Sports    |\n",
    "| “Very clean match”             | Sports        |\n",
    "| “A clean but forgettable game” | Sports        |\n",
    "| “It was a close election”      | Not Sports        |\n",
    "\n",
    "Suppose we have: \n",
    "- $B : \\{ \\text{Text = \"A very close game\"}\\}$;\n",
    "- $A : \\{ \\text{Tag = Sports}\\}$;\n",
    "What is the probability $P(A|B)$?"
   ]
  },
  {
   "cell_type": "markdown",
   "metadata": {
    "slideshow": {
     "slide_type": "subslide"
    }
   },
   "source": [
    "<h3 align=\"center\">Solution of Problem 2</h3>\n",
    "\n",
    "0. Remember the Extended Naive Bayes's theorem:\n",
    "$$P(A|B) = \\frac{P(B|A)P(A)}{P(B|A)P(A) + P(B| \\overline{A})P(\\overline{A})};$$\n",
    "$$P(B|A) = P(B_1|A)\\times P(B_2|A)\\times P(B_3|A)\\times P(B_4|A)$$ \n",
    "$$P(B|\\overline{A}) = P(B_1|\\overline{A})\\times P(B_2|\\overline{A})\\times P(B_3|\\overline{A})\\times P(B_4|\\overline{A}).$$\n",
    "\n",
    "1. Define the subsets $B_i$: $B = B_1 \\cup  B_2 \\cup  B_3 \\cup  B_4$, where:\n",
    "\n",
    " - $B_1 : \\{ \\text{Text = \"A \"}\\}$;\n",
    " - $B_2 : \\{ \\text{Text = \"very\"}\\}$;\n",
    " - $B_3 : \\{ \\text{Text = \"close\"}\\}$;\n",
    " - $B_4 : \\{ \\text{Text = \"game\"}\\}$;\n",
    "\n",
    "2. Calculate the individual probabilities with respect to each feature of interest:\n",
    "\n",
    "|     Word    | Sports | Not Sports | P(Sports)         | P(Not Sports)         |\n",
    "|:-----------:|:---:|----|----------------|---------------|\n",
    "| a           |  2  |  1 | $\\frac{2}{11}$ | $\\frac{1}{9}$ |\n",
    "| great       |  1  |  0 |                |               |\n",
    "| very        |  1  |  0 | $\\frac{1}{11}$ | $\\frac{0}{9}$ |\n",
    "| over        |  0  |  1 |                |               |\n",
    "| it          |  0  |  1 |                |               |\n",
    "| but         |  1  |  0 |                |               |\n",
    "| game        |  2  |  0 | $\\frac{2}{11}$ | $\\frac{0}{9}$ |\n",
    "| election    |  0  |  2 |                |               |\n",
    "| clean       |  2  |  0 |                |               |\n",
    "| close       |  0  |  1 | $\\frac{0}{11}$ | $\\frac{1}{9}$ |\n",
    "| the         |  0  |  1 |                |               |\n",
    "| was         |  0  |  2 |                |               |\n",
    "| forgettable |  1  |  0 |                |               |\n",
    "| match       |  1  |  0 |                |               |\n",
    "| Total       |  11 |  9 |                |               |\n",
    "\n",
    "&emsp; &ensp; We run into a problem here: **“close” doesn’t appear in any Sports text**: \n",
    "<br> &emsp; &ensp; since in a multiplication **if one of the terms is zero**, the **whole probability is nullified**.\n",
    "\n",
    "3. Apply so called **Laplace smoothing**: we add $1$ to every count so it’s never zero:\n",
    "\n",
    "|     Word    | Sports | Not Sports | P(Sports)         | P(Not Sports)         |\n",
    "|:-----------:|:---:|----|----------------|---------------|\n",
    "| **a**       |  3  |  2 | $\\frac{3}{25}$ | $\\frac{2}{23}$ |\n",
    "| great       |  2  |  1 | $\\frac{2}{25}$ | $\\frac{1}{23}$ |\n",
    "| **very**    |  2  |  1 | $\\frac{2}{25}$ | $\\frac{1}{23}$ |\n",
    "| over        |  1  |  2 | $\\frac{1}{25}$ | $\\frac{2}{23}$ |\n",
    "| it          |  1  |  2 | $\\frac{1}{25}$ | $\\frac{2}{23}$ |\n",
    "| but         |  2  |  1 | $\\frac{2}{25}$ | $\\frac{1}{23}$ |\n",
    "| **game**    |  3  |  1 | $\\frac{3}{25}$ | $\\frac{1}{23}$ |\n",
    "| election    |  1  |  3 | $\\frac{1}{25}$ | $\\frac{3}{23}$ |\n",
    "| clean       |  3  |  1 | $\\frac{3}{25}$ | $\\frac{1}{23}$ |\n",
    "| **close**   |  1  |  2 | $\\frac{1}{25}$ | $\\frac{2}{23}$ |\n",
    "| the         |  1  |  2 | $\\frac{1}{25}$ | $\\frac{2}{23}$ |\n",
    "| was         |  1  |  3 | $\\frac{1}{25}$ | $\\frac{3}{23}$ |\n",
    "| forgettable |  2  |  1 | $\\frac{2}{25}$ | $\\frac{1}{23}$ |\n",
    "| match       |  2  |  1 | $\\frac{2}{25}$ | $\\frac{1}{23}$ |\n",
    "| Total       |  25 | 23 | 1 | 1 |\n",
    "\n",
    "4. Calculate the total probability for $A$ and $\\overline{A}$:\n",
    "\n",
    "|          | Tag    | Probability      |\n",
    "|:---------|:------:|:----------------:|\n",
    "| Sports   |   25   | $\\frac{25}{48}$  |\n",
    "|Not Sports|  23    | $\\frac{23}{48}$  |\n",
    "| Total    |   48   | 1                |\n",
    "\n",
    "\n",
    "5. Now we just multiply all the probabilities and obtain the result:\n",
    "\n",
    "$$P(A|B) = \\frac{ \\frac{3}{25} \\cdot \\frac{2}{25} \\cdot \\frac{3}{25} \\cdot \\frac{1}{25} \\cdot \\frac{25}{48} }\n",
    "{\\frac{3}{25} \\cdot \\frac{2}{25} \\cdot \\frac{3}{25} \\cdot \\frac{1}{25} \\frac{25}{48} + \n",
    " \\frac{2}{23} \\cdot \\frac{1}{23} \\cdot \\frac{1}{23} \\cdot \\frac{2}{23} \\frac{23}{48} } = 0.78$$\n",
    "\n",
    "&emsp; &ensp; Excellent! Our classifier gives “**A very close game**” the **Sports** tag with **78% probability**."
   ]
  },
  {
   "cell_type": "code",
   "execution_count": 3,
   "metadata": {
    "slideshow": {
     "slide_type": "subslide"
    }
   },
   "outputs": [
    {
     "data": {
      "text/plain": [
       "0.7779798654380369"
      ]
     },
     "execution_count": 3,
     "metadata": {},
     "output_type": "execute_result"
    }
   ],
   "source": [
    "( 3/25 * 2/25 * 3/25 * 1/25 * 25/48 ) / ( 3/25 * 2/25 * 3/25 * 1/25 * 25/48 + 2/23 * 1/23 * 1/23 * 2/23 * 23/48 )"
   ]
  },
  {
   "cell_type": "markdown",
   "metadata": {
    "slideshow": {
     "slide_type": "slide"
    }
   },
   "source": [
    "<h3 align=\"center\">Problem 3: Finding the Extrema</h3>\n",
    "\n",
    "Find the extrema (extreme values) of the function:\n",
    "\n",
    "$$z = \\frac{2(x+y)(1+xy)}{(1+x^2)(1-y^2)}.$$\n",
    "\n",
    "by performing the steps:\n",
    "\n",
    "1. Compute the gradient of the function, i.e. the first order partial derivatives\n",
    "$$\\nabla z(x,y) = \\left \\{ \\frac{\\partial z(x,y)}{ \\partial x}, \\frac{\\partial z(x,y)}{ \\partial y} \\right \\};$$\n",
    "2. Validate that $\\frac{\\partial^2 z}{ \\partial x \\partial y} = \\frac{\\partial^2 z}{ \\partial y \\partial x}$;\n",
    "3. Find the critical points $(x_i, y_i)$ from the equation: \n",
    "$$\n",
    "\\nabla z(x,y) = 0 \\Rightarrow\n",
    "\\left\\{\\begin{matrix}\n",
    "\\frac{\\partial z(x,y)}{\\partial x} = 0\\\\ \n",
    "\\frac{\\partial z(x,y)}{\\partial y} = 0\n",
    "\\end{matrix}\\right.\n",
    ";$$\n",
    "\n",
    "4. Find the second order partial derivatives $\\frac{\\partial^2 z}{ \\partial x^2}$ and $\\frac{\\partial^2 z}{ \\partial y^2}$;\n",
    "5. For each critical point $z_i = (x_i, y_i)$ build the Hessian Matrix:\n",
    "\n",
    "$$\n",
    "\\begin{bmatrix}\n",
    "\\frac{\\partial^2 z}{\\partial x^2}(x_i,y_i) & \\frac{\\partial^2 z}{\\partial y \\partial x}(x_i,y_i)\\\\ \n",
    "\\frac{\\partial^2 z}{\\partial x \\partial y}(x_i,y_i) & \\frac{\\partial^2 z}{\\partial y^2}(x_i,y_i) \n",
    "\\end{bmatrix}\n",
    "$$\n",
    "\n",
    "- If the Hessian is **positive definite** at $z_i$, then $z$ attains an isolated **local minimum** at $z_i$;\n",
    "- If the Hessian is **negative definite** at $z_i$, then $z$ attains an isolated **local maximum** at $z_i$;\n",
    "- If the Hessian has **both positive** and **negative eigenvalues** then $z_i$ is a **saddle point** for $z$. "
   ]
  },
  {
   "cell_type": "markdown",
   "metadata": {
    "slideshow": {
     "slide_type": "slide"
    }
   },
   "source": [
    "<h3 align=\"center\">Problem 4: Automatic Differentiation</h3>\n",
    "\n",
    "Consider the function: $$f(w, x, y, b) = y - max(0, w\\cdot x + b).$$\n",
    "\n",
    "Calculate the derivative at a certain point: $w=2$, $x=1$, $b = 1$, and $y=1$."
   ]
  },
  {
   "cell_type": "markdown",
   "metadata": {
    "slideshow": {
     "slide_type": "subslide"
    }
   },
   "source": [
    "<h3 align=\"center\">Solution of Problem 4</h3>\n",
    "\n",
    "1. Build the computational graph:  turns each operation into a **node** and connects them through **edges**:\n",
    "\n",
    "<center><img src=\"images/AD_01.png\" width=\"400\" height=\"400\" alt=\"Example\" /></center>\n",
    "\n",
    "**Forward accumulations**:\n",
    "\n",
    "2.  calculate the values of each node, propagating from the bottom (the input variables) to the top (the output function):\n",
    "\n",
    "|  Node |    Expression   | Value |\n",
    "|:-----:|:---------------:|-------|\n",
    "| $w_1$ |       $w$       |   2   |\n",
    "| $w_2$ |       $x$       |   1   |\n",
    "| $w_3$ |       $b$       |   1   |\n",
    "| $w_4$ |       $y$       |   5   |\n",
    "| $w_5$ | $w_1 \\cdot w_2$ |   2   |\n",
    "| $w_6$ |   $w_3 + w_5$   |   3   |\n",
    "| $w_7$ |  $max(0, w_6)$  |   3   |\n",
    "| $w_8$ |   $w_4 - w_7$   |   2   |\n",
    "| z     |      $w_8$      |   2   |\n",
    "\n",
    "3. Calculate the partial derivatives of each connection between operations, represented by the edges:\n",
    "\n",
    "| --------------------Expression--------------------   | --------------------Value-------------------- |\n",
    "|:----------------------------------------------------------------------------------------------------------------------------------------------:|:-----------------------------------------------------------------------------------:|\n",
    "| $\\frac{\\partial w_5}{\\partial w_2} = \\frac{\\partial (w_1 w_2)}{\\partial w_2} = w_2$ | $\\frac{\\partial w_5}{\\partial w_1} = \\frac{\\partial w_1 w_2}{\\partial w_2} = w_1$ |\n",
    "| $\\frac{\\partial w_6}{\\partial w_5} = \\frac{\\partial (w_5 + w_3)}{\\partial w_5} = 1$ | $\\frac{\\partial w_6}{\\partial w_3} = \\frac{\\partial (w_5 + w_3)}{\\partial w_5} = 1$ |\n",
    "| $\\frac{\\partial w_7}{\\partial w_6} = \\frac{\\partial max(0, w_6)}{\\partial w_6} = \\left\\{\\begin{matrix} 0,  \\space x < 0 \\\\ 1, \\space x > 0\\end{matrix}\\right.$ | $\\frac{\\partial w_8}{\\partial w_7} = \\frac{\\partial (w_4 - w_7)}{\\partial w_7} = -1$ |\n",
    "| $\\frac{\\partial w_8}{\\partial w_7} = \\frac{\\partial (w_4 - w_7)}{\\partial w_7} = -1$ | $\\frac{\\partial w_8}{\\partial w_4} = \\frac{\\partial (w_4 - w_7)}{\\partial w_3} = 1$ |\n",
    "\n",
    "4. Now we simply multiply up the edges:\n",
    "\n",
    "$$\\frac{\\partial z}{\\partial w_1} = \n",
    "\\frac{\\partial z }{\\partial w_8} \\cdot \n",
    "\\frac{\\partial w_8}{\\partial w_7} \\cdot\n",
    "\\frac{\\partial w_7}{\\partial w_6} \\cdot\n",
    "\\frac{\\partial w_6}{\\partial w_5} \\cdot\n",
    "\\frac{\\partial w_5}{\\partial w_1} \\cdot\n",
    " = 1 \\times (-1) \\times \\left\\{\\begin{matrix} 0, \\space x < 0 \\\\ 1, \\space x > 0\\end{matrix}\\right. \\times 1 \\times w_2 = \n",
    "\\left\\{\\begin{matrix} 0, \\space x < 0 \\\\ -1,  \\space x > 0\\end{matrix}\\right.\n",
    "$$\n",
    "\n"
   ]
  },
  {
   "cell_type": "markdown",
   "metadata": {
    "slideshow": {
     "slide_type": "subslide"
    }
   },
   "source": [
    "**Reverse accumulations**:\n",
    "\n",
    "|----------------------------------------Expression----------------------------------------| ----------Value----------                                                                                             |\n",
    "|:---------------------------------------------------------------------------------------------------------------------------:|---------------------------------------------------------------------------------------------------|\n",
    "|                                                         $\\hat{w_8}$                                                         |                                              1 (seed)                                             |\n",
    "| $\\hat{w_7} = \\hat{w_8}\\frac{\\partial w_8}{\\partial w_7} = \\hat{w_8}\\frac{\\partial (w_4 - w_7)}{\\partial w_7} = -\\hat{w_8}$  |                                                 1                                                 |\n",
    "|  $\\hat{w_4} = \\hat{w_8}\\frac{\\partial w_8}{\\partial w_4} = \\hat{w_8}\\frac{\\partial (w_4 - w_7)}{\\partial w_4} = \\hat{w_8}$  |                                                 1                                                 |\n",
    "|        $\\hat{w_6} = \\hat{w_7}\\frac{\\partial w_7}{\\partial w_6} = \\hat{w_7}\\frac{\\partial max(0, w_6)}{\\partial w_6}$        |            $\\left\\{\\begin{matrix} 0, \\space w_6 < 0\\\\ -1, \\space w_6 > 0 \\end{matrix}\\right. $            |\n",
    "|  $\\hat{w_5} = \\hat{w_6}\\frac{\\partial w_6}{\\partial w_5} = \\hat{w_6}\\frac{\\partial (w_3 + w_5)}{\\partial w_5} = \\hat{w_6}$  |         $ \\left\\{\\begin{matrix} 0, \\space w_5 < 0\\\\ -1, \\space w_5 > 0 \\end{matrix}\\right. $        |\n",
    "|  $\\hat{w_3} = \\hat{w_6}\\frac{\\partial w_6}{\\partial w_3} = \\hat{w_6}\\frac{\\partial (w_3 + w_5)}{\\partial w_3} = \\hat{w_6}$  |     $ \\left\\{\\begin{matrix} 0, \\space w_3 < 0\\\\ -1, \\space w_3 > 0 \\end{matrix}\\right. $    |\n",
    "| $\\hat{w_2} = \\hat{w_5}\\frac{\\partial w_5}{\\partial w_1} = \\hat{w_5}\\frac{\\partial (w_1 w_2)}{\\partial w_1} = w_2 \\hat{w_5}$ | $ \\left\\{\\begin{matrix} 0, \\space w_1 < 0\\\\ - w_2, \\space w_1 > 0 \\end{matrix}\\right. $ |\n",
    "|      $\\hat{w_1} = \\hat{w_5}\\frac{\\partial w_5}{\\partial w_1} = \\hat{w_5}\\frac{\\partial (w_1 w_2)}{\\partial w_1}$     |       $\\left\\{\\begin{matrix} 0, \\space w_2 < 0\\\\ - w_1 \\space w_2 > 0 \\end{matrix}\\right.$ |\n",
    "\n",
    "I.e.:\n",
    "$$\\hat{w} = \\left\\{\\begin{matrix} 0, \\space w < 0\\\\ - w, \\space w > 0 \\end{matrix}\\right.$$\n",
    "$$\\hat{x} = \\left\\{\\begin{matrix} 0, \\space x < 0\\\\ - x \\space x > 0 \\end{matrix}\\right.$$\n",
    "$$\\hat{b} = \\left\\{\\begin{matrix} 0, \\space w_3 < 0\\\\ -1 \\space w_3 > 0 \\end{matrix}\\right.$$\n",
    "$$\\hat{y} = 1 $$"
   ]
  }
 ],
 "metadata": {
  "celltoolbar": "Slideshow",
  "kernelspec": {
   "display_name": "Python 3",
   "language": "python",
   "name": "python3"
  },
  "language_info": {
   "codemirror_mode": {
    "name": "ipython",
    "version": 3
   },
   "file_extension": ".py",
   "mimetype": "text/x-python",
   "name": "python",
   "nbconvert_exporter": "python",
   "pygments_lexer": "ipython3",
   "version": "3.7.3"
  }
 },
 "nbformat": 4,
 "nbformat_minor": 2
}
