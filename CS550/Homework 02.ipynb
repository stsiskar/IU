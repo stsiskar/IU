{
 "cells": [
  {
   "cell_type": "markdown",
   "metadata": {
    "slideshow": {
     "slide_type": "notes"
    }
   },
   "source": [
    "**Artificial Inteligence (CS550)**\n",
    "\n",
    "Title: **Homework №2**\n",
    "<br>\n",
    "Deadline: **6 May 2020**\n",
    "\n",
    "Homework will be evaluated maximum by **6 points**.\n",
    "Each problem is **one point**. "
   ]
  },
  {
   "cell_type": "markdown",
   "metadata": {
    "slideshow": {
     "slide_type": "slide"
    }
   },
   "source": [
    "<h3 align=\"center\">Problem 1: Probability Distributions</h3>\n",
    "\n",
    "Consider the following probability distributions (choose the number that corresponds to your number in the student's list):\n",
    "0. uniform\n",
    "1. bernoulli distribution\n",
    "2. binomial distribution\n",
    "3. geometric distribution\n",
    "4. hypergeometric distribution\n",
    "5. poisson\n",
    "6. beta\n",
    "7. gamma\n",
    "8. students\n",
    "9. chi_squared\n",
    "11. Gaussian distribution\n",
    "\n",
    "Perform the following tasks:\n",
    "- define the **distribution function**\n",
    "- choose the **definition area** of the distribution function\n",
    "- **generate 1000 events** with chosen distribution function\n",
    "- add **Gaussian noise**\n",
    "- choose the **binning** and plot the **histogramm **(do not forget to normalize it)\n",
    "- **fit** the resulting histogram with the true distribution function, **identify errors**\n",
    "- make a **final graph** showing: the resulting histogram, the true distribution and the results of fitting with the identified errors\n",
    "\n",
    "**Note**: In the case of **discrete** and **continuouse** distributions, **do both**!\n",
    "\n",
    "**Note**: Do not forget to **include** the **labels and units**!\n",
    "\n",
    "**Hint**: You can use this source:\n",
    "\n",
    "https://www.boost.org/doc/libs/1_58_0/libs/math/doc/html/math_toolkit/dist_ref/dists/"
   ]
  },
  {
   "cell_type": "markdown",
   "metadata": {
    "slideshow": {
     "slide_type": "slide"
    }
   },
   "source": [
    "<h3 align=\"center\">Problem 2: Bias of an Estimator</h3>\n",
    "\n",
    "Suppose $X_1, X_2, ..., X_n$ are **independent and identically distributed** (**i.i.d.**) random variables with \n",
    "**expectation** $\\mu$ and **variance** $\\sigma^2$.\n",
    "\n",
    "The **sample mean** and **uncorrected sample variance** are defined as:\n",
    "\n",
    "$$\\overline{X} = \\frac{1}{n}\\sum_{i=1}^{n} X_i \\text{ and } S^2 = \\frac{1}{n}\\sum_{i=1}^{n} \\left ( X_i - \\overline{X} \\right )^2.$$\n",
    "\n",
    "(a) Compute the **sample mean** and compare it with the **population mean** $\\mu$.\n",
    "\n",
    "(b) Compute the **expected value** of the **uncorrected sample variance**, $\\mathbf{E}[S^2]$, and compare it with the **population variance** $\\sigma^2$.\n",
    "\n",
    "(c) How to **change** the **sample variance** to get **unbiased estimator** of the **population variance** $\\sigma^2$.\n",
    "\n",
    "**Note**: the **expectation value** and the **sample mean** are different things!\n"
   ]
  },
  {
   "cell_type": "markdown",
   "metadata": {
    "slideshow": {
     "slide_type": "slide"
    }
   },
   "source": [
    "<h3 align=\"center\">Problem 3: Correlation Table</h3>\n",
    "\n",
    "Given a **correlation table** of a random vector $(X,Y)$:\n",
    "\n",
    "$$\\begin{array}{|c|c|} \n",
    "\\hline \n",
    " X\\backslash Y & -6 & 0 & 3 \\\\ \n",
    "\\hline \n",
    " -2 & 0,1 & 0 & 0,2 \\\\ \n",
    "\\hline \n",
    "0 & 0,05 & a & 0 \\\\ \n",
    "\\hline \n",
    "1 & 0 & 0,2 & 0,05 \\\\ \n",
    "\\hline \n",
    "7 & 0,1 & 0 & 0,1 \\\\ \n",
    "\\end{array}\n",
    "$$\n",
    "\n",
    "\n",
    "\n",
    "(a) Find the **value** of the missing entry $a$;\n",
    "\n",
    "(b) Find the **distribution** of a random variable $X$, i.e. $\\operatorname{P}(X = x_i)$;\n",
    "\n",
    "(c) Find the **expectation** and **variance** of a random variable $X$, i.e. $\\operatorname{E}[X]$ and $\\operatorname{Var}[X]$;\n",
    "\n",
    "(d) Find the **distribution** of a random variable $Y$, i.e. $\\operatorname{P}(Y = y_i)$;\n",
    "\n",
    "(e) Find the **expectation** and **variance** of a random variable $Y$, i.e. $\\operatorname{E}[Y]$ and $\\operatorname{Var}[Y]$;\n",
    "\n",
    "(f) Find the **covariance** of the random variables $X$ and $Y$, i.e. $\\operatorname{Cov}(X, Y)$;\n",
    "\n",
    "(g) Find the **сorrelation сoefficient** of the random variables $X$ and $Y$, i.e. $\\rho(X, Y)$."
   ]
  },
  {
   "cell_type": "markdown",
   "metadata": {},
   "source": [
    "<h3 align=\"center\">Problem 4: Naive Bayes Algorithm</h3>\n",
    "\n",
    "Lets we have a dataset of a Car Showroom:\n",
    "\n",
    "| Car № |        Maker        |  Type  | Color | Sell |\n",
    "|:-----:|:-------------------:|:------:|:-----:|:----:|\n",
    "|   1   | TATA Motors Limited | Sports |  Red  |  Yes |\n",
    "|   2   |  FORD Motor Company | Sports | Black |  Yes |\n",
    "|   3   | TATA Motors Limited |   Suv  |  Red  |  No  |\n",
    "|   4   |  FORD Motor Company |   Suv  |  Red  |  No  |\n",
    "|   5   | TATA Motors Limited | Sports | Black |  Yes |\n",
    "|   6   |  FORD Motor Company | Sports | Black |  No  |\n",
    "|   7   | TATA Motors Limited |   Suv  |  Red  |  No  |\n",
    "|   8   | TATA Motors Limited |   Suv  |  Red  |  Yes |\n",
    "|   9   |  FORD Motor Company |   Suv  | Black |  No  |\n",
    "|   10  |  FORD Motor Company |   Suv  | Black |  Yes |\n",
    "\n",
    "1. Suppose that we have a **black sports** car manufactured by **TATA Motors**, what is the probability of selling it?\n",
    "\n",
    "2. Write a Python code that receives the **car parameter as input** and gives the **probability of selling the car as output**."
   ]
  },
  {
   "cell_type": "markdown",
   "metadata": {
    "slideshow": {
     "slide_type": "slide"
    }
   },
   "source": [
    "<h3 align=\"center\">Problem 5: Gradient Descent Method</h3>\n",
    "\n",
    "Given a function of two variables: \n",
    "$$f(x,y) = x^2 + 2y^2 + e^{x+y}.$$\n",
    "\n",
    "Find the minimum of this function using the gradient descent method.\n",
    "For initial data, take the following conditions:\n",
    "- starting point: $(0,0)$;\n",
    "- step size multiplier: $0.1$;\n",
    "- precision (absolute value of gradient): $0.05$.\n",
    "\n",
    "How many iterations are necessary to obtain the required precision? (write python code)."
   ]
  },
  {
   "cell_type": "markdown",
   "metadata": {
    "slideshow": {
     "slide_type": "slide"
    }
   },
   "source": [
    "<h3 align=\"center\">Problem 6: Automatic Differentiation</h3>\n",
    "\n",
    "Consider the function: $$z(x, y) = \\sin{\\left( x^2y + xy^2\\right )}.$$\n",
    "\n",
    "1. Build a **computation grap** and calculate the values for each node, propagating from the bottom (the input variables) to the top (the output function) at point $A = (1, 1)$.\n",
    "\n",
    "2. Consider the seed values $\\dot{w}_1 = \\frac{\\partial w_1}{\\partial x} = 1$ and $\\dot{w}_2 = \\frac{\\partial w_2}{\\partial x} = 1$, and calculate the partial derivatives of each connection between operations, represented by the edges, i.e. $\\dot{w}_i = \\frac{\\partial w_i}{\\partial x}$.\n",
    "\n",
    "3. Calculate the partial derivative $\\frac{\\partial z}{\\partial x}$ at point $A = (1, 1)$ using the **forward accumulation**.\n",
    "\n",
    "4. Consider the seed values $\\bar{w}_n = \\frac{\\partial z}{\\partial w_n} = 1$ and calculate the subexpresion varibales $\\bar{w}_i$ for each connection between operations, i.e. $\\bar{w}_i = \\frac{\\partial z}{\\partial w_i}$.\n",
    "\n",
    "5. Calculate the partial derivative $\\frac{\\partial z}{\\partial y}$ at point $A = (1, 1)$ using the **reverse accumulation**."
   ]
  }
 ],
 "metadata": {
  "kernelspec": {
   "display_name": "Python 3",
   "language": "python",
   "name": "python3"
  },
  "language_info": {
   "codemirror_mode": {
    "name": "ipython",
    "version": 3
   },
   "file_extension": ".py",
   "mimetype": "text/x-python",
   "name": "python",
   "nbconvert_exporter": "python",
   "pygments_lexer": "ipython3",
   "version": "3.7.3"
  }
 },
 "nbformat": 4,
 "nbformat_minor": 2
}
