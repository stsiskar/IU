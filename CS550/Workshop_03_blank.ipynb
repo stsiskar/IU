{
 "cells": [
  {
   "cell_type": "markdown",
   "metadata": {
    "slideshow": {
     "slide_type": "notes"
    }
   },
   "source": [
    "**Artificial Inteligence (CS550)**\n",
    "<br>\n",
    "Date: **5 February 2020**\n",
    "<br>\n",
    "Location: **SU, NEW STEM building**\n",
    "<br>\n",
    "Room: **304**\n",
    "\n",
    "Title: **Workshop №3**\n",
    "<br>\n",
    "Speaker: **Dr. Shota Tsiskaridze**"
   ]
  },
  {
   "cell_type": "markdown",
   "metadata": {
    "slideshow": {
     "slide_type": "slide"
    }
   },
   "source": [
    "<h2 align=\"center\">Naive Bayes Classifier</h2>"
   ]
  },
  {
   "cell_type": "markdown",
   "metadata": {
    "slideshow": {
     "slide_type": "subslide"
    }
   },
   "source": [
    "<h3 align=\"center\">Naive Bayes classifier</h3>\n",
    "\n",
    "- **What is a Classifier?**\n",
    "<br> A classifier is a machine learning model that is used to discriminate different objects based on certain features.\n",
    "\n",
    "\n",
    "- **Principle of Naive Bayes Classifier:**\n",
    "<br> A Naive Bayes classifier is a probabilistic machine learning model that’s used for classification task. \n",
    "<br>The crux of the classifier is based on the **Extended Bayes' theorem**.\n",
    "\n",
    "\n",
    "- **What does Naive Bayes mean?**\n",
    "<br> Naive Bayes classifiers assume strong, or **naive**, independence between the events.\n",
    "\n",
    "\n",
    "- **Where is Naive Bayes Classifier used?**\n",
    "<br> Popular uses include **text analysis**, **spam filters**, **medical diagnosis** and **weather prediction**."
   ]
  },
  {
   "cell_type": "markdown",
   "metadata": {
    "slideshow": {
     "slide_type": "subslide"
    }
   },
   "source": [
    "<h3 align=\"center\">Extended Bayes' Theorem</h3>\n",
    "\n",
    "\n",
    "\n",
    "Let $(\\Omega, \\Sigma, P)$ be a probability space.\n",
    "\n",
    "$\\textbf{Extended Bayes' theorem}$. If $B_1, B_2, \\dots, B_n$ are conditionally independent events given $A$, such that \n",
    "$P(B_i) > 0$ for each $i \\in \\{1, 2, 3, \\dots , n \\}$ and $P(A)>0$, then:\n",
    "\n",
    "$$P(A | B) = \n",
    "\\frac{P(B_1|A) \\times \\cdots \\times  P(B_n|A) \\times P(A)}{P(B_1|A) \\times \\cdots \\times P(B_n|A) \\times P(A) + P(B_1|\\overline{A}) \\times \\cdots \\times  P(B_n|\\overline{A}) \\times P(\\overline{A})},$$\n",
    "\n",
    "where $\\overline{A} = \\Omega \\setminus A$ and $B = B_1 \\cap B_2 \\cap \\dots \\cap B_n$."
   ]
  },
  {
   "cell_type": "markdown",
   "metadata": {
    "slideshow": {
     "slide_type": "subslide"
    }
   },
   "source": [
    "$\\textbf{Proof}$.\n",
    "Since $P(B_i)>0$ for each $i \\in \\{1, 2, 3, \\dots , n \\}$, so then $P(B)>0$ and we can use the Bayes' theorem:\n",
    "\n",
    "$$P(A | B) = \\frac{P(B|A) \\times P(A)}{P(B)}.$$\n",
    "\n",
    "We know that the events $B_1, \\dots, B_n$ are conditionally independent given $A$, then, by definition:\n",
    "\n",
    "$$P(B|A) = P(B_1 \\cap B_2 \\cap \\cdots \\cap B_n|A) = P(B_1|A) \\times P(B_2|A) \\times \\dots \\times P(B_n|A),$$\n",
    "\n",
    "so we got the fraction numerator.\n",
    "\n",
    "On the other hand, since the events $B_1, \\dots, B_n$ are conditionally independent given $A$, so they are conditionally independent given $\\overline{A}$, i.e.:\n",
    "\n",
    "$$P(B|\\overline{A}) = P(B_1 \\cap B_2 \\cap \\cdots \\cap B_n|\\overline{A}) = P(B_1|\\overline{A}) \\times P(B_2|\\overline{A}) \\times \\dots \\times P(B_n|\\overline{A}).$$\n",
    "\n",
    "Now, using the distributivity of conjunction relative to disjunction and Bayes' theorem one more time, we have:\n",
    "\n",
    "$$P(B) = P(B \\cap \\Omega) = P(B \\cap (A \\cup \\overline{A})) = P((B \\cap A) \\cup (B \\cap \\overline{A})) =\n",
    "P(B \\cap A) + P(B \\cap \\overline{A}) = \n",
    "P(B|A)P(A) + P(B|\\overline{A})P(\\overline{A}).$$\n",
    "\n",
    "This gives us the fraction denominator and the theorem is proved.\n"
   ]
  },
  {
   "cell_type": "markdown",
   "metadata": {
    "slideshow": {
     "slide_type": "slide"
    }
   },
   "source": [
    "Suppose we have a data set that describes the weather conditions for playing a game of golf:\n",
    "<br> &emsp; $\\bullet$ Weather conditions: **Outlook, Temperature, Humidity, Wind**.\n",
    "<br> &emsp; $\\bullet$ Each tuple classifies the conditions as **fit** (**Yes**) or **unfit** (**No**) for **Play**ing golf.\n",
    "\n",
    "| Day |  Outlook | Temperature | Humidity | Wind   | Play |\n",
    "|:---:|:--------:|:-----------:|:--------:|:------:|:----:|\n",
    "|  0  |   Sunny  |     Hot     | High     | Weak   | No   |\n",
    "|  1  |   Sunny  |     Hot     | High     | Strong | No   |\n",
    "|  2  | Overcast |     Hot     | High     | Weak   | Yes  |\n",
    "| 3   | Rain     | Mild        | High     | Weak   | Yes  |\n",
    "| 4   | Rain     | Cool        | Normal   | Weak   | Yes  |\n",
    "| 5   | Rain     | Cool        | Normal   | Strong | No   |\n",
    "| 6   | Overcast | Cool        | Normal   | Strong | Yes  |\n",
    "| 7   | Sunny    | Mild        | High     | Weak   | No   |\n",
    "| 8   | Sunny    | Cool        | Normal   | Weak   | Yes  |\n",
    "| 9   | Rain     | Mild        | Normal   | Weak   | Yes  |\n",
    "| 10  | Sunny    | Mild        | Normal   | Strong | Yes  |\n",
    "| 11  | Overcast | Mild        | High     | Strong | Yes  |\n",
    "| 12  | Overcast | Hot         | Normal   | Weak   | Yes  |\n",
    "| 13  | Rain     | Mild        | High     | Strong | No   |\n"
   ]
  },
  {
   "cell_type": "markdown",
   "metadata": {
    "slideshow": {
     "slide_type": "subslide"
    }
   },
   "source": [
    "Now, suppose we have a **Day** with the following values:\n",
    "\n",
    "- Outlook = Sunny\n",
    "- Temperature = Cool\n",
    "- Humidity = High\n",
    "- Windy = Strong\n",
    "\n",
    "So, with the data, we have to predict whether \"we can **Play** on that day or not.\""
   ]
  },
  {
   "cell_type": "markdown",
   "metadata": {
    "slideshow": {
     "slide_type": "fragment"
    }
   },
   "source": [
    "**What are the events in our case?**\n",
    "\n",
    "&emsp; $\\bullet$ $A \\text{  }: \\{ \\text{ Play = Yes}\\}$\n",
    "<br> &emsp; $\\bullet$ $B_1 : \\{ \\text{Outlook = Sunny}\\}$\n",
    "<br> &emsp; $\\bullet$ $B_2 : \\{ \\text{Temperature = Cool}\\}$\n",
    "<br> &emsp; $\\bullet$ $B_3 : \\{ \\text{Humidity = High}\\}$\n",
    "<br> &emsp; $\\bullet$ $B_4 : \\{ \\text{Wind = Strong}\\}$"
   ]
  },
  {
   "cell_type": "markdown",
   "metadata": {
    "slideshow": {
     "slide_type": "subslide"
    }
   },
   "source": [
    "- First, we need to calculate individual probabilities with respect to each weather conditions (feature):\n",
    "\n",
    "|  Outlook |     |    |               |               |$|$| Temperature |     |    |               |               |\n",
    "|:---------|:---:|:--:|:-------------:|:-------------:|---|:------------|:---:|:--:|:-------------:|:-------------:|\n",
    "|          | Yes | No |     P(Yes)    |     P(No)     |$|$|             | Yes | No |     P(Yes)    |     P(No)     |\n",
    "|   Sunny  |  2  |  3 | $\\frac{2}{9}$ | $\\frac{3}{5}$ |$|$|     Hot     |  2  |  2 | $\\frac{2}{9}$ | $\\frac{2}{5}$ |\n",
    "| Overcast |  4  |  0 | $\\frac{4}{9}$ | $\\frac{0}{5}$ |$|$|     Mild    |  4  |  2 | $\\frac{4}{9}$ | $\\frac{2}{5}$ |\n",
    "|   Rainy  |  3  |  2 | $\\frac{3}{9}$ | $\\frac{2}{5}$ |$|$|     Cool    |  3  |  1 | $\\frac{3}{9}$ | $\\frac{1}{5}$ |\n",
    "|   Total  |  9  |  5 |       1       |       1       |$|$|    Total    |  9  |  5 |       1       |       1       |\n",
    "\n",
    "| Humidity |     |    |               |               |$|$| Wind  |     |    |               |               |\n",
    "|:---------|:---:|:--:|:-------------:|:-------------:|---|:------|:---:|:--:|:-------------:|:-------------:|\n",
    "|          | Yes | No |     P(Yes)    |     P(No)     |$|$|       | Yes | No |     P(Yes)    |     P(No)     |\n",
    "|   High   |  3  |  4 | $\\frac{3}{9}$ | $\\frac{4}{5}$ |$|$|Strong |  3  |  3 | $\\frac{3}{9}$ | $\\frac{3}{5}$ |\n",
    "|   Norm   |  6  |  1 | $\\frac{6}{9}$ | $\\frac{1}{5}$ |$|$| Weak  |  6  |  2 | $\\frac{6}{9}$ | $\\frac{2}{5}$ |\n",
    "|   Total  |  9  |  5 |       1       |       1       |$|$| Total |  9  |  5 |       1       |       1       |\n",
    "\n",
    "|       | Play |   Probability  |\n",
    "|:-----:|:----:|:--------------:|\n",
    "|  Yes  |   9  | $\\frac{9}{14}$ |\n",
    "|   No  |   6  | $\\frac{5}{14}$ |\n",
    "| Total |  14  |        1       |"
   ]
  },
  {
   "cell_type": "markdown",
   "metadata": {
    "slideshow": {
     "slide_type": "subslide"
    }
   },
   "source": [
    "- Second, we need to write down the conditional probabilites for our instance:\n",
    "\n",
    "| | |\n",
    "|:-:|:-:|\n",
    "|$P(B_1|A) = \\frac{2}{9}$|  $P(B_1|\\overline{A}) = \\frac{3}{5}$|\n",
    "|$P(B_2|A) = \\frac{3}{9}$| $P(B_2|\\overline{A}) = \\frac{1}{5}$|\n",
    "|$P(B_3|A) = \\frac{3}{9}$| $P(B_3|\\overline{A}) = \\frac{4}{5}$|\n",
    "|$P(B_4|A) = \\frac{3}{9}$| $P(B_4|\\overline{A}) = \\frac{3}{5}$|\n",
    "|$P(A) = \\frac{9}{14}$| $P(\\overline{A}) = \\frac{5}{14}$|\n",
    "\n",
    "- Third, we use the Extended Bayes' Theorem and obtain the final probability:\n",
    "\n",
    "$$P(A|B) = \\frac{\n",
    "\\frac{2}{9} \\frac{3}{9} \\frac{3}{9} \\frac{3}{9} \\frac{9}{14}\n",
    "}{\n",
    "\\frac{2}{9} \\frac{3}{9} \\frac{3}{9} \\frac{3}{9} \\frac{9}{14} + \\frac{3}{5} \\frac{1}{5} \\frac{4}{5} \\frac{3}{5} \\frac{5}{14}\n",
    "} = 0.20$$\n"
   ]
  },
  {
   "cell_type": "code",
   "execution_count": 1,
   "metadata": {
    "slideshow": {
     "slide_type": "fragment"
    }
   },
   "outputs": [
    {
     "data": {
      "text/plain": [
       "0.204582651391162"
      ]
     },
     "execution_count": 1,
     "metadata": {},
     "output_type": "execute_result"
    }
   ],
   "source": [
    "(2/9 * 3/9 * 3/9 * 3/9 * 9/14)/(2/9 * 3/9 * 3/9 * 3/9 * 9/14 + 3/5 * 1/5 * 4/5 * 3/5 * 5/14)"
   ]
  },
  {
   "cell_type": "markdown",
   "metadata": {
    "slideshow": {
     "slide_type": "subslide"
    }
   },
   "source": [
    "<h3 align=\"center\">Exercise 1</h3>\n",
    "\n",
    "Now, suppose we have a **Day** with the following values:\n",
    "\n",
    "- Outlook = Rain\n",
    "- Humidity = High\n",
    "- Wind = Weak\n",
    "\n",
    "Predict whether \"we can **Play** on that day or not.\""
   ]
  },
  {
   "cell_type": "markdown",
   "metadata": {
    "slideshow": {
     "slide_type": "fragment"
    }
   },
   "source": [
    "**What are the events in our case?**\n",
    "\n",
    "&emsp; $\\bullet$ $A \\text{  }: \\{ \\text{ * = *}\\}$\n",
    "<br> &emsp; $\\bullet$ $B_1 : \\{ \\text{* = *}\\}$\n",
    "<br> &emsp; $\\bullet$ $B_2 : \\{ \\text{* = *}\\}$\n",
    "<br> &emsp; $\\bullet$ $B_3 : \\{ \\text{* = *}\\}$"
   ]
  },
  {
   "cell_type": "markdown",
   "metadata": {
    "slideshow": {
     "slide_type": "subslide"
    }
   },
   "source": [
    "- Second, we need to write down the conditional probabilites for our instance:\n",
    "\n",
    "| | |\n",
    "|:-:|:-:|\n",
    "|$P(B_1|A) = \\frac{*}{*}$| $P(B_1|\\overline{A}) = \\frac{*}{*}$|\n",
    "|$P(B_2|A) = \\frac{*}{*}$| $P(B_2|\\overline{A}) = \\frac{*}{*}$|\n",
    "|$P(B_3|A) = \\frac{*}{*}$| $P(B_3|\\overline{A}) = \\frac{*}{*}$|\n",
    "|$P(A) = \\frac{*}{*}$| $P(\\overline{A}) = \\frac{*}{*}$|\n",
    "\n",
    "- Third, we use the Extended Bayes' Theorem and obtain the final probability:\n",
    "\n",
    "$$P(A|B) = \\frac{\n",
    "\\frac{*}{*} \\frac{*}{*} \\frac{*}{*} \\frac{*}{*}\n",
    "}{\n",
    "\\frac{*}{*} \\frac{*}{*} \\frac{*}{*} \\frac{*}{*} \\frac{*}{*} + \\frac{*}{*} \\frac{*}{*} \\frac{*}{*} \\frac{*}{*}\n",
    "} = ?$$\n"
   ]
  },
  {
   "cell_type": "code",
   "execution_count": 2,
   "metadata": {
    "slideshow": {
     "slide_type": "skip"
    }
   },
   "outputs": [
    {
     "data": {
      "text/plain": [
       "0.5102040816326531"
      ]
     },
     "execution_count": 2,
     "metadata": {},
     "output_type": "execute_result"
    }
   ],
   "source": [
    "# Fill me"
   ]
  },
  {
   "cell_type": "markdown",
   "metadata": {
    "slideshow": {
     "slide_type": "subslide"
    }
   },
   "source": [
    "<h3 align=\"center\">Exercise 2</h3>\n",
    "\n",
    "Now, suppose we have a **Day** with the following values:\n",
    "- Outlook = Rain\n",
    "- Temperature = Mild\n",
    "- Humidity = High\n",
    "- Wind = Weak\n",
    "\n",
    "Predict whether \"we can **Play** on that day or not.\""
   ]
  },
  {
   "cell_type": "markdown",
   "metadata": {
    "slideshow": {
     "slide_type": "fragment"
    }
   },
   "source": [
    "**What are the events in our case?**\n",
    "\n",
    "&emsp; $\\bullet$ $A \\text{  }: \\{ \\text{ * = *}\\}$\n",
    "<br> &emsp; $\\bullet$ $B_1 : \\{ \\text{* = *}\\}$\n",
    "<br> &emsp; $\\bullet$ $B_2 : \\{ \\text{* = *}\\}$\n",
    "<br> &emsp; $\\bullet$ $B_3 : \\{ \\text{* = *}\\}$\n",
    "<br> &emsp; $\\bullet$ $B_4 : \\{ \\text{* = *}\\}$"
   ]
  },
  {
   "cell_type": "markdown",
   "metadata": {
    "slideshow": {
     "slide_type": "subslide"
    }
   },
   "source": [
    "- Second, we need to write down the conditional probabilites for our instance:\n",
    "\n",
    "| | |\n",
    "|:-:|:-:|\n",
    "|$P(B_1|A) = \\frac{*}{*}$| $P(B_1|\\overline{A}) = \\frac{*}{*}$|\n",
    "|$P(B_2|A) = \\frac{*}{*}$| $P(B_2|\\overline{A}) = \\frac{*}{*}$|\n",
    "|$P(B_3|A) = \\frac{*}{*}$| $P(B_3|\\overline{A}) = \\frac{*}{*}$|\n",
    "|$P(B_4|A) = \\frac{*}{*}$| $P(B_4|\\overline{A}) = \\frac{*}{*}$|\n",
    "|$P(A) = \\frac{*}{*}$| $P(\\overline{A}) = \\frac{*}{*}$|\n",
    "\n",
    "- Third, we use the Extended Bayes' Theorem and obtain the final probability:\n",
    "\n",
    "$$P(A|B) = \\frac{\n",
    "\\frac{*}{*} \\frac{*}{*} \\frac{*}{*} \\frac{*}{*} \\frac{*}{*}\n",
    "}{\n",
    "\\frac{*}{*} \\frac{*}{*} \\frac{*}{*} \\frac{*}{*} \\frac{*}{*} + \\frac{*}{*} \\frac{*}{*} \\frac{*}{*} \\frac{*}{*} \\frac{*}{*}\n",
    "} = ?$\n"
   ]
  },
  {
   "cell_type": "code",
   "execution_count": 3,
   "metadata": {
    "slideshow": {
     "slide_type": "fragment"
    }
   },
   "outputs": [
    {
     "data": {
      "text/plain": [
       "0.5364806866952789"
      ]
     },
     "execution_count": 3,
     "metadata": {},
     "output_type": "execute_result"
    }
   ],
   "source": [
    "# Fill me"
   ]
  },
  {
   "cell_type": "markdown",
   "metadata": {
    "slideshow": {
     "slide_type": "slide"
    }
   },
   "source": [
    "<h3 align=\"center\">Naive Bayes Example using Golf Dataset</h3>"
   ]
  },
  {
   "cell_type": "markdown",
   "metadata": {
    "slideshow": {
     "slide_type": "subslide"
    }
   },
   "source": [
    "<h3 align=\"center\">Step-by-Step implementation on Naive Bayes Model</h3>\n",
    "\n",
    "We can split the implementation process down into the following steps:\n",
    "- Step 0: Importing the required Libraries\n",
    "- Step 1: Reading the data\n",
    "- Step 2: Data Cleansing and Feature Selection\n",
    "- Step 3: Data splitting into Training and Test sets\n",
    "- Step 4: Training and Prediction\n",
    "- Step 5: Accuracy evaluation"
   ]
  },
  {
   "cell_type": "markdown",
   "metadata": {
    "slideshow": {
     "slide_type": "subslide"
    }
   },
   "source": [
    "<h3 align=\"center\">Sklearn library in Python</h3>\n",
    "\n",
    "- **Scikit-learn** is a free software machine learning library for the Python programming language.\n",
    "- It features various **classification**, **regression** and **clustering algorithms** including **Support Vector Machines (SVM)**, **random forests**, **gradient boosting**, **k-means** and **DBSCAN**, and is designed to interoperate with the Python numerical and scientific libraries **NumPy** and **SciPy**."
   ]
  },
  {
   "cell_type": "code",
   "execution_count": 4,
   "metadata": {
    "slideshow": {
     "slide_type": "fragment"
    }
   },
   "outputs": [],
   "source": [
    "#!pip install sklearn"
   ]
  },
  {
   "cell_type": "code",
   "execution_count": 5,
   "metadata": {
    "slideshow": {
     "slide_type": "subslide"
    }
   },
   "outputs": [],
   "source": [
    "# Step 0: Importing the required Libraries\n",
    "\n",
    "import pandas as pd\n",
    "import numpy\n",
    "from sklearn.model_selection import train_test_split  # Used for splitting Data into Training and Test sets\n",
    "from sklearn.naive_bayes import GaussianNB            # Used for train the naive bayes model\n",
    "from sklearn import metrics                           # Used for accuracy calculation"
   ]
  },
  {
   "cell_type": "code",
   "execution_count": 6,
   "metadata": {
    "scrolled": true,
    "slideshow": {
     "slide_type": "subslide"
    }
   },
   "outputs": [
    {
     "data": {
      "text/html": [
       "<div>\n",
       "<style scoped>\n",
       "    .dataframe tbody tr th:only-of-type {\n",
       "        vertical-align: middle;\n",
       "    }\n",
       "\n",
       "    .dataframe tbody tr th {\n",
       "        vertical-align: top;\n",
       "    }\n",
       "\n",
       "    .dataframe thead th {\n",
       "        text-align: right;\n",
       "    }\n",
       "</style>\n",
       "<table border=\"1\" class=\"dataframe\">\n",
       "  <thead>\n",
       "    <tr style=\"text-align: right;\">\n",
       "      <th></th>\n",
       "      <th>Outlook</th>\n",
       "      <th>Temperature</th>\n",
       "      <th>Humidity</th>\n",
       "      <th>Wind</th>\n",
       "      <th>Play</th>\n",
       "    </tr>\n",
       "  </thead>\n",
       "  <tbody>\n",
       "    <tr>\n",
       "      <th>0</th>\n",
       "      <td>Sunny</td>\n",
       "      <td>Hot</td>\n",
       "      <td>High</td>\n",
       "      <td>Weak</td>\n",
       "      <td>No</td>\n",
       "    </tr>\n",
       "    <tr>\n",
       "      <th>1</th>\n",
       "      <td>Sunny</td>\n",
       "      <td>Hot</td>\n",
       "      <td>High</td>\n",
       "      <td>Strong</td>\n",
       "      <td>No</td>\n",
       "    </tr>\n",
       "    <tr>\n",
       "      <th>2</th>\n",
       "      <td>Overcast</td>\n",
       "      <td>Hot</td>\n",
       "      <td>High</td>\n",
       "      <td>Weak</td>\n",
       "      <td>Yes</td>\n",
       "    </tr>\n",
       "    <tr>\n",
       "      <th>3</th>\n",
       "      <td>Rain</td>\n",
       "      <td>Mild</td>\n",
       "      <td>High</td>\n",
       "      <td>Weak</td>\n",
       "      <td>Yes</td>\n",
       "    </tr>\n",
       "    <tr>\n",
       "      <th>4</th>\n",
       "      <td>Rain</td>\n",
       "      <td>Cool</td>\n",
       "      <td>Normal</td>\n",
       "      <td>Weak</td>\n",
       "      <td>Yes</td>\n",
       "    </tr>\n",
       "    <tr>\n",
       "      <th>5</th>\n",
       "      <td>Rain</td>\n",
       "      <td>Cool</td>\n",
       "      <td>Normal</td>\n",
       "      <td>Strong</td>\n",
       "      <td>No</td>\n",
       "    </tr>\n",
       "    <tr>\n",
       "      <th>6</th>\n",
       "      <td>Overcast</td>\n",
       "      <td>Cool</td>\n",
       "      <td>Normal</td>\n",
       "      <td>Strong</td>\n",
       "      <td>Yes</td>\n",
       "    </tr>\n",
       "    <tr>\n",
       "      <th>7</th>\n",
       "      <td>Sunny</td>\n",
       "      <td>Mild</td>\n",
       "      <td>High</td>\n",
       "      <td>Weak</td>\n",
       "      <td>No</td>\n",
       "    </tr>\n",
       "    <tr>\n",
       "      <th>8</th>\n",
       "      <td>Sunny</td>\n",
       "      <td>Cool</td>\n",
       "      <td>Normal</td>\n",
       "      <td>Weak</td>\n",
       "      <td>Yes</td>\n",
       "    </tr>\n",
       "    <tr>\n",
       "      <th>9</th>\n",
       "      <td>Rain</td>\n",
       "      <td>Mild</td>\n",
       "      <td>Normal</td>\n",
       "      <td>Weak</td>\n",
       "      <td>Yes</td>\n",
       "    </tr>\n",
       "    <tr>\n",
       "      <th>10</th>\n",
       "      <td>Sunny</td>\n",
       "      <td>Mild</td>\n",
       "      <td>Normal</td>\n",
       "      <td>Strong</td>\n",
       "      <td>Yes</td>\n",
       "    </tr>\n",
       "    <tr>\n",
       "      <th>11</th>\n",
       "      <td>Overcast</td>\n",
       "      <td>Mild</td>\n",
       "      <td>High</td>\n",
       "      <td>Strong</td>\n",
       "      <td>Yes</td>\n",
       "    </tr>\n",
       "    <tr>\n",
       "      <th>12</th>\n",
       "      <td>Overcast</td>\n",
       "      <td>Hot</td>\n",
       "      <td>Normal</td>\n",
       "      <td>Weak</td>\n",
       "      <td>Yes</td>\n",
       "    </tr>\n",
       "    <tr>\n",
       "      <th>13</th>\n",
       "      <td>Rain</td>\n",
       "      <td>Mild</td>\n",
       "      <td>High</td>\n",
       "      <td>Strong</td>\n",
       "      <td>No</td>\n",
       "    </tr>\n",
       "  </tbody>\n",
       "</table>\n",
       "</div>"
      ],
      "text/plain": [
       "     Outlook Temperature Humidity    Wind Play\n",
       "0      Sunny         Hot     High    Weak   No\n",
       "1      Sunny         Hot     High  Strong   No\n",
       "2   Overcast         Hot     High    Weak  Yes\n",
       "3       Rain        Mild     High    Weak  Yes\n",
       "4       Rain        Cool   Normal    Weak  Yes\n",
       "5       Rain        Cool   Normal  Strong   No\n",
       "6   Overcast        Cool   Normal  Strong  Yes\n",
       "7      Sunny        Mild     High    Weak   No\n",
       "8      Sunny        Cool   Normal    Weak  Yes\n",
       "9       Rain        Mild   Normal    Weak  Yes\n",
       "10     Sunny        Mild   Normal  Strong  Yes\n",
       "11  Overcast        Mild     High  Strong  Yes\n",
       "12  Overcast         Hot   Normal    Weak  Yes\n",
       "13      Rain        Mild     High  Strong   No"
      ]
     },
     "execution_count": 6,
     "metadata": {},
     "output_type": "execute_result"
    }
   ],
   "source": [
    "# Step 1: Reading the data\n",
    "\n",
    "dataset = \"Data/golf.csv\"\n",
    "\n",
    "def strip_txt(txt:str) -> str:\n",
    "    return txt.replace(\"'\", '').strip() if txt else txt\n",
    "\n",
    "dataset_handler = open(dataset, \"r\")\n",
    "dataset = pd.read_csv(dataset_handler, converters={'Outlook':     strip_txt,\n",
    "                                                       'Temperature': strip_txt,\n",
    "                                                       'Humidity':    strip_txt,\n",
    "                                                       'Wind':        strip_txt,\n",
    "                                                       'Play':        strip_txt})\n",
    "dataset_handler.close()\n",
    "\n",
    "dataset"
   ]
  },
  {
   "cell_type": "code",
   "execution_count": 7,
   "metadata": {
    "slideshow": {
     "slide_type": "subslide"
    }
   },
   "outputs": [
    {
     "data": {
      "text/plain": [
       "(0     0\n",
       " 1     0\n",
       " 2     1\n",
       " 3     1\n",
       " 4     1\n",
       " 5     0\n",
       " 6     1\n",
       " 7     0\n",
       " 8     1\n",
       " 9     1\n",
       " 10    1\n",
       " 11    1\n",
       " 12    1\n",
       " 13    0\n",
       " Name: Play, dtype: int64,     Outlook  Temperature  Humidity  Wind  Play\n",
       " 0         1            1         1     2     0\n",
       " 1         1            1         1     1     0\n",
       " 2         2            1         1     2     1\n",
       " 3         3            2         1     2     1\n",
       " 4         3            3         2     2     1\n",
       " 5         3            3         2     1     0\n",
       " 6         2            3         2     1     1\n",
       " 7         1            2         1     2     0\n",
       " 8         1            3         2     2     1\n",
       " 9         3            2         2     2     1\n",
       " 10        1            2         2     1     1\n",
       " 11        2            2         1     1     1\n",
       " 12        2            1         2     2     1\n",
       " 13        3            2         1     1     0)"
      ]
     },
     "execution_count": 7,
     "metadata": {},
     "output_type": "execute_result"
    }
   ],
   "source": [
    "# Step 2: Data Cleansing and Feature Selection\n",
    "\n",
    "# We need to map our data to numbers\n",
    "# This is done because the naive Bayes implementation in sklearn cannot deal with strings\n",
    "\n",
    "Outlook     = {'Sunny':  1, 'Overcast': 2, 'Rain': 3}\n",
    "Temperature = {'Hot':    1, 'Mild':     2, 'Cool': 3}\n",
    "Humidity    = {'High':   1, 'Normal':   2}\n",
    "Wind        = {'Strong': 1, 'Weak':     2}\n",
    "Play        = {'Yes':    1, 'No':       0}\n",
    "\n",
    "dataset.Outlook     = [Outlook[item]     for item in dataset.Outlook.astype(str)]\n",
    "dataset.Temperature = [Temperature[item] for item in dataset.Temperature.astype(str)]\n",
    "dataset.Humidity    = [Humidity[item]    for item in dataset.Humidity.astype(str)]\n",
    "dataset.Wind        = [Wind[item]        for item in dataset.Wind.astype(str)]\n",
    "dataset.Play        = [Play[item]        for item in dataset.Play.astype(str)]\n",
    "\n",
    "# We need to select the columns from the dataset that we feel will give us the best prediction score.\n",
    "#- this is called feature selection. \n",
    "# Here we will use all data columns to store the feature matrix (X) and response vector (y) \n",
    "X = dataset\n",
    "y = dataset.Play \n",
    "\n",
    "dataset.Play, dataset, "
   ]
  },
  {
   "cell_type": "code",
   "execution_count": 8,
   "metadata": {
    "scrolled": true,
    "slideshow": {
     "slide_type": "subslide"
    }
   },
   "outputs": [
    {
     "data": {
      "text/plain": [
       "(    Outlook  Temperature  Humidity  Wind  Play\n",
       " 11        2            2         1     1     1\n",
       " 4         3            3         2     2     1\n",
       " 8         1            3         2     2     1\n",
       " 9         3            2         2     2     1\n",
       " 0         1            1         1     2     0\n",
       " 12        2            1         2     2     1\n",
       " 6         2            3         2     1     1\n",
       " 3         3            2         1     2     1,\n",
       "     Outlook  Temperature  Humidity  Wind  Play\n",
       " 5         3            3         2     1     0\n",
       " 1         1            1         1     1     0\n",
       " 7         1            2         1     2     0\n",
       " 2         2            1         1     2     1\n",
       " 10        1            2         2     1     1\n",
       " 13        3            2         1     1     0)"
      ]
     },
     "execution_count": 8,
     "metadata": {},
     "output_type": "execute_result"
    }
   ],
   "source": [
    "# Step 3: Data splitting into Training and Test sets\n",
    "\n",
    "# We now need to randomly split X and y into training and testing sets\n",
    "split_ratio = 0.4  # Proportion of the dataset (p) to include in the train split\n",
    "state = 5           # State is the random seed used by the random number generator\n",
    "X_train, X_test, y_train, y_test = train_test_split(X, y, test_size=split_ratio, random_state=state) \n",
    "\n",
    "X_train, X_test"
   ]
  },
  {
   "cell_type": "code",
   "execution_count": 9,
   "metadata": {
    "slideshow": {
     "slide_type": "subslide"
    }
   },
   "outputs": [
    {
     "data": {
      "text/plain": [
       "5    -1\n",
       "1     0\n",
       "7     0\n",
       "2     0\n",
       "10    0\n",
       "13   -1\n",
       "Name: Play, dtype: int64"
      ]
     },
     "execution_count": 9,
     "metadata": {},
     "output_type": "execute_result"
    }
   ],
   "source": [
    "# Step 4: Training and Prediction\n",
    "\n",
    "# Training the model on training set \n",
    "GNB = GaussianNB() \n",
    "GNB.fit(X_train, y_train) \n",
    "  \n",
    "# Making predictions on the testing set \n",
    "y_pred = GNB.predict(X_test)\n",
    "y_test - y_pred"
   ]
  },
  {
   "cell_type": "code",
   "execution_count": 10,
   "metadata": {
    "slideshow": {
     "slide_type": "subslide"
    }
   },
   "outputs": [
    {
     "name": "stdout",
     "output_type": "stream",
     "text": [
      "Gaussian Naive Bayes model accuracy(in %): 66.66666666666666\n"
     ]
    }
   ],
   "source": [
    "# Step 5: Accuracy evaluation\n",
    "\n",
    "#Evaluate accuracy by comparing actual response values (y_test) with predicted response values (y_pred) \n",
    "print(\"Gaussian Naive Bayes model accuracy(in %):\", metrics.accuracy_score(y_test, y_pred)*100)"
   ]
  },
  {
   "cell_type": "markdown",
   "metadata": {
    "slideshow": {
     "slide_type": "slide"
    }
   },
   "source": [
    "<h3 align=\"center\">Naive Bayes Example using Pima Indians Diabetes Database</h3>"
   ]
  },
  {
   "cell_type": "markdown",
   "metadata": {
    "slideshow": {
     "slide_type": "slide"
    }
   },
   "source": [
    "<h3 align=\"center\">Context</h3>\n",
    "\n",
    "$\\bullet$ This dataset is originally from the **National Institute of Diabetes** and Digestive and Kidney Diseases. \n",
    "<br>$\\bullet$ The objective of the dataset is to diagnostically predict whether or not a patient has diabetes, \n",
    "<br> &ensp; based on certain diagnostic measurements included in the dataset. \n",
    "<br>$\\bullet$ Here we have a dataset comprising of **768 observations** of women aged 21 and older.\n",
    "<br>$\\bullet$ The dataset describes instantaneous measurements taken from patients, like: \n",
    "<br> &emsp;  1. **Number of times pregnant**\n",
    "<br> &emsp;  2. **Plasma glucose concentration a 2 hours in an oral glucose tolerance test**\n",
    "<br> &emsp;  3. **Diastolic blood pressure (mm Hg)**\n",
    "<br> &emsp;  4. **Triceps skin fold thickness (mm)**\n",
    "<br> &emsp;  5. **2-Hour serum insulin (mu U/ml)**\n",
    "<br> &emsp;  6. **Body mass index (weight in kg/(height in m)^2)**\n",
    "<br> &emsp;  7. **Diabetes pedigree function**\n",
    "<br> &emsp;  8. **Age (years)**\n",
    "<br> &emsp;  9. **Class variable (0 or 1)**\n",
    "<br>$\\bullet$ The **Class value** indicates whether the patient suffered an onset of diabetes within 5 years. \n",
    "<br>$\\bullet$ The **Class values** are **1 for Diabetic** and **0 for Non-Diabetic**. "
   ]
  },
  {
   "cell_type": "markdown",
   "metadata": {
    "slideshow": {
     "slide_type": "subslide"
    }
   },
   "source": [
    "<h3 align=\"center\">Step-by-Step implementation on Naive Bayes Model</h3>\n",
    "\n",
    "We can split the implementation process down into the following steps:\n",
    "- Step 0: Importing the required Libraries\n",
    "- Step 1: Reading the data\n",
    "- Step 2: Splitting the data into Training and Test sets\n",
    "- Step 3: Summarizing the Data\n",
    "- Step 4: Making Prediction\n",
    "- Step 5: Accuracy evaluation"
   ]
  },
  {
   "cell_type": "markdown",
   "metadata": {
    "slideshow": {
     "slide_type": "subslide"
    }
   },
   "source": [
    "<h3 align=\"center\">CSV modele in Python</h3>\n",
    "\n",
    "- If you want to import or export spreadsheets and databases for use in the Python interpreter, you must rely on the Comma Separated Values format, or CSV module.\n",
    "\n",
    "- CSV files are used to store a large number of variables – or data. \n",
    "- They are incredibly simplified spreadsheets – think Excel – only the content is stored in plaintext."
   ]
  },
  {
   "cell_type": "code",
   "execution_count": 20,
   "metadata": {
    "slideshow": {
     "slide_type": "subslide"
    }
   },
   "outputs": [],
   "source": [
    "# Step 0: Importing the required Libraries\n",
    "\n",
    "import csv\n",
    "import math\n",
    "import random"
   ]
  },
  {
   "cell_type": "code",
   "execution_count": 12,
   "metadata": {},
   "outputs": [],
   "source": [
    "# Step 1: Reading the data\n",
    "\n",
    "def loadFile(filename):\n",
    "    lines   = csv.reader(open(filename))\n",
    "    dataset = list(lines)\n",
    "    for i in range(len(dataset)):\n",
    "        dataset[i] = [float(x) for x in dataset[i]]\n",
    "    return dataset"
   ]
  },
  {
   "cell_type": "code",
   "execution_count": 13,
   "metadata": {
    "slideshow": {
     "slide_type": "subslide"
    }
   },
   "outputs": [],
   "source": [
    "# Step 2: Data splitting into Training and Test sets\n",
    "\n",
    "def splitDataset(dataset, split_ratio):\n",
    "    X_train_size = int(len(dataset) * split_ratio)\n",
    "    X_train = []\n",
    "    copy = list(dataset)\n",
    "    while len(X_train) < X_train_size:\n",
    "        index = random.randrange(len(copy))\n",
    "        X_train.append(copy.pop(index))\n",
    "    return [X_train, copy]\n"
   ]
  },
  {
   "cell_type": "code",
   "execution_count": 14,
   "metadata": {
    "slideshow": {
     "slide_type": "subslide"
    }
   },
   "outputs": [],
   "source": [
    "# Step 3: Summarizing the Data\n",
    "\n",
    "# The summary of the training data collected involves the mean and the standard deviation for each attribute, by feature value. \n",
    "# Required when making predictions to calculate the probability of specific attribute values belonging to each feature value.\n",
    "\n",
    "# Separate data by feature\n",
    "def separateByFeature(dataset):\n",
    "    separated = {}\n",
    "    for i in range(len(dataset)):\n",
    "        vector = dataset[i]\n",
    "        if (vector[-1] not in separated):\n",
    "            separated[vector[-1]] = []\n",
    "        separated[vector[-1]].append(vector)\n",
    "    return separated\n",
    "\n",
    "# Calculate mean\n",
    "def mean(numbers):\n",
    "    mu = sum(numbers)/float(len(numbers))\n",
    "    return mu\n",
    "\n",
    "# Calculate standard deviation\n",
    "def stdev(numbers):\n",
    "    mu  = mean(numbers)\n",
    "    sigma = math.sqrt(sum([pow(x-mu,2) for x in numbers])/float(len(numbers)-1))\n",
    "    return sigma\n",
    "\n",
    "# Summarize the dataset\n",
    "def summarize(dataset):\n",
    "    summaries = [(mean(attribute), stdev(attribute)) for attribute in list(zip(*dataset))]\n",
    "    del summaries[-1]\n",
    "    return summaries\n",
    "\n",
    "# Summarize the attributes by feature\n",
    "def summarizeByFeature(dataset):\n",
    "    separated = separateByFeature(dataset)\n",
    "    summaries = {}\n",
    "    for feature, instances in separated.items():\n",
    "        summaries[feature] = summarize(instances)\n",
    "    return summaries"
   ]
  },
  {
   "cell_type": "code",
   "execution_count": 15,
   "metadata": {},
   "outputs": [
    {
     "data": {
      "text/plain": [
       "[0, 1, 2]"
      ]
     },
     "execution_count": 15,
     "metadata": {},
     "output_type": "execute_result"
    }
   ],
   "source": [
    "# what does del do?\n",
    "example = [0, 1, 2, 3]\n",
    "del example[-1]\n",
    "example"
   ]
  },
  {
   "cell_type": "code",
   "execution_count": 16,
   "metadata": {},
   "outputs": [
    {
     "data": {
      "text/plain": [
       "[('a', 1), ('b', 2), ('c', 3)]"
      ]
     },
     "execution_count": 16,
     "metadata": {},
     "output_type": "execute_result"
    }
   ],
   "source": [
    "# what does zip do?\n",
    "example = [['a', 'b', 'c'], [1, 2, 3]]\n",
    "list(zip(*example))"
   ]
  },
  {
   "cell_type": "code",
   "execution_count": 17,
   "metadata": {
    "slideshow": {
     "slide_type": "subslide"
    }
   },
   "outputs": [],
   "source": [
    "# Step 4: Making Prediction\n",
    "\n",
    "# Calculate the Gaussian probability density function:\n",
    "def calculateProbability(x, mean, stdev):\n",
    "    exponent = math.exp(-(math.pow(x-mean,2)/(2*math.pow(stdev,2))))\n",
    "    return (1/(math.sqrt(2*math.pi)*stdev))*exponent\n",
    "\n",
    "# Calculate feature probabilities: \n",
    "def calculateFeatureProbabilities(summaries, inputVector):\n",
    "    probabilities = {}\n",
    "    for feature, featureSummaries in summaries.items():\n",
    "        probabilities[feature] = 1\n",
    "        for i in range(len(featureSummaries)):\n",
    "            mean, stdev = featureSummaries[i]\n",
    "            x = inputVector[i]\n",
    "            probabilities[feature] *= calculateProbability(x, mean, stdev)\n",
    "    return probabilities\n",
    "\n",
    "# Make a prediction\n",
    "def predict(summaries, inputVector):\n",
    "    probabilities = calculateFeatureProbabilities(summaries, inputVector)\n",
    "    bestLabel, bestProb = None, -1\n",
    "    for feature, probability in probabilities.items():\n",
    "        if bestLabel is None or probability > bestProb:\n",
    "            bestProb = probability\n",
    "            bestLabel = feature\n",
    "    return bestLabel\n",
    "\n",
    "# Make predictions\n",
    "def getPredictions(summaries, X_test):\n",
    "    y_pred = []\n",
    "    for i in range(len(X_test)):\n",
    "        result = predict(summaries, X_test[i])\n",
    "        y_pred.append(result)\n",
    "    return y_pred"
   ]
  },
  {
   "cell_type": "code",
   "execution_count": 18,
   "metadata": {
    "slideshow": {
     "slide_type": "subslide"
    }
   },
   "outputs": [],
   "source": [
    "# Step 5: Accuracy evaluation\n",
    "\n",
    "# Get accuracy\n",
    "def getAccuracy(X_test, y_pred):\n",
    "    correct = 0\n",
    "    for x in range(len(X_test)):\n",
    "        if X_test[x][-1] == y_pred[x]:\n",
    "            correct += 1\n",
    "    return (correct/float(len(X_test)))*100.0"
   ]
  },
  {
   "cell_type": "code",
   "execution_count": 19,
   "metadata": {
    "slideshow": {
     "slide_type": "subslide"
    }
   },
   "outputs": [
    {
     "name": "stdout",
     "output_type": "stream",
     "text": [
      "Split 768 rows into train = 514 and test = 254 rows\n",
      "Accuracy: 73.22834645669292%\n"
     ]
    }
   ],
   "source": [
    "# Run the main code\n",
    "\n",
    "# Load data\n",
    "filename = 'Data/pima-indians-diabetes.csv'\n",
    "dataset  = # Fill me\n",
    "    \n",
    "# Split dataset into Training and Test sets\n",
    "split_ratio = 0.67\n",
    "X_train, X_test = # Fill me\n",
    "print('Split {0} rows into train = {1} and test = {2} rows'.format(len(dataset),len(X_train),len(X_test)))\n",
    "\n",
    "# Prepare model\n",
    "summaries = # Fill me\n",
    "\n",
    "# Get predictions\n",
    "y_pred    = # Fill me\n",
    "    \n",
    "# Get accuracy\n",
    "accuracy  = # Fill me\n",
    "print('Accuracy: {0}%'.format(accuracy))"
   ]
  }
 ],
 "metadata": {
  "celltoolbar": "Slideshow",
  "kernelspec": {
   "display_name": "Python 3",
   "language": "python",
   "name": "python3"
  },
  "language_info": {
   "codemirror_mode": {
    "name": "ipython",
    "version": 3
   },
   "file_extension": ".py",
   "mimetype": "text/x-python",
   "name": "python",
   "nbconvert_exporter": "python",
   "pygments_lexer": "ipython3",
   "version": "3.7.3"
  }
 },
 "nbformat": 4,
 "nbformat_minor": 2
}
