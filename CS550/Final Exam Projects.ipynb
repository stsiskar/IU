{
 "cells": [
  {
   "cell_type": "markdown",
   "metadata": {
    "slideshow": {
     "slide_type": "notes"
    }
   },
   "source": [
    "**Artificial Inteligence (CS550)**\n",
    "\n",
    "Title: **Final Exam Projects**\n",
    "<br>\n",
    "Deadline: **15 May 2020**\n",
    "\n",
    "Final Exam will be evaluated maximum by **30 points**."
   ]
  },
  {
   "cell_type": "markdown",
   "metadata": {
    "slideshow": {
     "slide_type": "slide"
    }
   },
   "source": [
    "<h3 align=\"center\">Image Classification Problem using CIFAR-10</h3>\n",
    "\n",
    "- **CIFAR-10**  is an established computer-vision dataset used for object recognition collected by Alex Krizhevsky, Vinod Nair, and Geoffrey Hinton: \n",
    "\n",
    "  https://www.kaggle.com/c/cifar-10\n",
    "\n",
    "\n",
    "- It is a **subset** of the **80 million tiny images dataset** and consists of **50,000 32x32 color images** containing one of **10 object classes**, with **5000 images per class**.\n",
    "\n",
    "\n",
    "- Classes in the dataset, as well as 10 random images from each, are presented below:\n",
    "\n",
    "<img src=\"images/FE_Cifar10.png\" width=\"512\" height=\"512\" alt=\"Example\" />\n"
   ]
  },
  {
   "cell_type": "markdown",
   "metadata": {
    "slideshow": {
     "slide_type": "slide"
    }
   },
   "source": [
    "<h3 align=\"center\">Project Assignment</h3>\n",
    "\n",
    "- Image classification should be done using the corresponding algorithms:\n",
    "  - Group 1: **Gaussian Mixture Models**\n",
    "  - Group 2: **Multilayer Perceptron**\n",
    "  - Group 3: **Logistic Regresion**\n",
    "  - Group 4: **Support-Vector Machine**\n",
    "  - Group 5: **$K$-means or Fuzzy $C$ Means algorithm** (Up to you).\n",
    "\n",
    "\n",
    "- **Tasks to be performed**:\n",
    "  1. Register on Kaggle:\n",
    "  \n",
    "     https://www.kaggle.com/ <br><br>\n",
    "     \n",
    "  2. Download the dataset.\n",
    "  \n",
    "     https://www.kaggle.com/c/3649/download-all<br><br>\n",
    "     \n",
    "  3. Exploratory Data Analysis (EDA): \n",
    "  \n",
    "     https://towardsdatascience.com/exploratory-data-analysis-8fc1cb20fd15 <br><br>\n",
    "     \n",
    "  4. Train the dataset using your algorithm.<br><br>\n",
    "  5. Measure the classification performance:\n",
    "  \n",
    "     https://medium.com/thalus-ai/performance-metrics-for-classification-problems-in-machine-learning-part-i-b085d432082b\n",
    "     \n",
    "     https://towardsdatascience.com/metrics-to-evaluate-your-machine-learning-algorithm-f10ba6e38234"
   ]
  },
  {
   "cell_type": "markdown",
   "metadata": {
    "slideshow": {
     "slide_type": "slide"
    }
   },
   "source": [
    "<h3 align=\"center\">Group List</h3>\n",
    "\n",
    "| № | Surname        | Name   | - | Surname        | Name   |\n",
    "|:-:|:---------------|:-------|---|:---------------|:-------|\n",
    "| 1 | Devadze        |  David | - | Sanadiradze    | Levan  |\n",
    "| 2 | Gochitashvili  | Tamazi | - | Shugliashvili  | Levani |\n",
    "| 3 | Khvedelidze    | Nika   | - | Managadze      | Zaza   |\n",
    "| 4 | Mamisashvili   | Lizi   | - | Mikava         | Temuri |\n",
    "| 5 | Menteshashvili | Tamari | - | Shishniashvili | Erekle |\n",
    "\n"
   ]
  },
  {
   "cell_type": "markdown",
   "metadata": {
    "slideshow": {
     "slide_type": "slide"
    }
   },
   "source": [
    "<h3 align=\"center\">Grade Evaluation Criteria</h3>\n",
    "\n",
    "- The **Project** will be evaluated at a maximum **30 points.**\n",
    "- Points are distributed as follows:\n",
    "\n",
    "<img src=\"images/FE_Criteria.png\" width=\"900\" alt=\"Criteria\" />\n",
    "\n",
    "\n"
   ]
  }
 ],
 "metadata": {
  "celltoolbar": "Slideshow",
  "kernelspec": {
   "display_name": "Python 3",
   "language": "python",
   "name": "python3"
  },
  "language_info": {
   "codemirror_mode": {
    "name": "ipython",
    "version": 3
   },
   "file_extension": ".py",
   "mimetype": "text/x-python",
   "name": "python",
   "nbconvert_exporter": "python",
   "pygments_lexer": "ipython3",
   "version": "3.7.3"
  }
 },
 "nbformat": 4,
 "nbformat_minor": 2
}
