{
 "cells": [
  {
   "cell_type": "markdown",
   "metadata": {
    "slideshow": {
     "slide_type": "notes"
    }
   },
   "source": [
    "**Artificial Inteligence (CS550)**\n",
    "<br>\n",
    "Date: **22 January 2020**\n",
    "<br>\n",
    "Location: **SU, NEW STEM building**\n",
    "<br>\n",
    "Room: **304**\n",
    "\n",
    "Title: **Seminar №1**\n",
    "<br>\n",
    "Speaker: **Dr. Shota Tsiskaridze**\n",
    "<br>\n",
    "Bibliography: [1] Zed A. Shaw, *Learn Python the Hard Way*, 2013."
   ]
  },
  {
   "cell_type": "code",
   "execution_count": null,
   "metadata": {
    "slideshow": {
     "slide_type": "skip"
    }
   },
   "outputs": [],
   "source": [
    "%load_ext autoreload\n",
    "%autoreload 2\n",
    "\n",
    "%matplotlib inline"
   ]
  },
  {
   "cell_type": "markdown",
   "metadata": {
    "slideshow": {
     "slide_type": "slide"
    }
   },
   "source": [
    "<h3 align=\"center\">Basics</h3>"
   ]
  },
  {
   "cell_type": "markdown",
   "metadata": {
    "slideshow": {
     "slide_type": "slide"
    }
   },
   "source": [
    "<h3 align=\"center\">Why Python?</h3>\n",
    "\n",
    "\n",
    "  <img src=\"images/growth-major-programming-languages-stack-overflow.jpg\" width=\"100%\" align=\"center\"/>"
   ]
  },
  {
   "cell_type": "markdown",
   "metadata": {
    "slideshow": {
     "slide_type": "slide"
    }
   },
   "source": [
    "<h3 align=\"center\">Basic libraries used in our course</h3>\n",
    "\n",
    "$\\bullet$ **NumPy**: fundamental package for scientific computing with Python:\n",
    "<br> \n",
    "&emsp; https://numpy.org/devdocs/user/quickstart.html\n",
    "<br> \n",
    "&emsp; It contains among other things:\n",
    "<br>\n",
    "&emsp; $\\bullet$ a powerful $n$-dimensional array object;\n",
    "<br>\n",
    "&emsp; $\\bullet$ sophisticated (broadcasting) functions;\n",
    "<br>\n",
    "&emsp; $\\bullet$ useful linear algebra, Fourier transform, and random number capabilities.\n",
    "<br>\n",
    "$\\bullet$ **Pandas**: an open source library providing high-performance, easy-to-use data structures and data analysis tools for the Python programming language: \n",
    "<br> https://pandas.pydata.org/\n",
    "<br>\n",
    "$\\bullet$ **Matplotlib**: a Python 2D plotting library which produces publication quality figures:\n",
    "<br> https://matplotlib.org/\n",
    "<br>\n",
    "$\\bullet$ **Seaborn**: a library based on matplotlib that provides a high-level interface for drawing attractive and informative statistical graphics: <br> https://seaborn.pydata.org/\n"
   ]
  },
  {
   "cell_type": "markdown",
   "metadata": {
    "slideshow": {
     "slide_type": "slide"
    }
   },
   "source": [
    "<h3 align=\"center\">How to import Python libraries?</h3>\n"
   ]
  },
  {
   "cell_type": "code",
   "execution_count": null,
   "metadata": {
    "slideshow": {
     "slide_type": "fragment"
    }
   },
   "outputs": [],
   "source": [
    "import numpy as np\n",
    "import pandas as pd\n",
    "import matplotlib.pyplot as plt\n",
    "import seaborn as sns"
   ]
  },
  {
   "cell_type": "markdown",
   "metadata": {
    "slideshow": {
     "slide_type": "slide"
    }
   },
   "source": [
    "<h3 align=\"center\">The basics of set theory</h3>\n",
    "\n",
    "$\\textbf{Definition}$ A **set** is a mathematical object, which itself is a collection of any objects that are called **elements** of this set and have a common characteristic property.\n",
    "\n",
    "- There are two common ways of describing, or specifying the members of, a set:\n",
    " - The **roster** notation: $A = \\{ red, green, blue \\}$;\n",
    " - In **set-builder** notation: $B = \\{n | n \\text{ is an integer and }0 \\leq n \\leq 2020\\}$.\n",
    "\n",
    "- Examples:\n",
    " - Set of natural numbers: $\\mathbb{N} = \\{1, 2, 3, ...\\}$;\n",
    " - Set of integers $\\mathbb{Z} = \\{..., -3, -2, -1, 0, 1, 2, 3, ...\\}$;\n",
    " - Set of name characters/strings: $Fruit = \\{\"apple\", \"banana\", \"cherry\"\\}$."
   ]
  },
  {
   "cell_type": "markdown",
   "metadata": {
    "slideshow": {
     "slide_type": "subslide"
    }
   },
   "source": [
    "<h3 align=\"center\">How to create a set in Python?</h3>\n",
    "\n",
    "Python’s built-in **set** type has the following characteristics:\n",
    "<br>\n",
    "&emsp; $\\bullet$ Sets are **unordered**;\n",
    "<br>\n",
    "&emsp; $\\bullet$ Set **elements are unique**. Duplicate elements are not allowed;\n",
    "<br>\n",
    "&emsp; $\\bullet$ A set itself may be modified, but the elements contained in the set must be of an **immutable** type.\n",
    "\n",
    "A set can be created in two ways:"
   ]
  },
  {
   "cell_type": "code",
   "execution_count": 2,
   "metadata": {
    "slideshow": {
     "slide_type": "fragment"
    }
   },
   "outputs": [
    {
     "data": {
      "text/plain": [
       "(set,\n",
       " set,\n",
       " set,\n",
       " {1, 2, 3},\n",
       " {'apple', 'banana', 'cherry'},\n",
       " {(1, 2, 3), 1.0, 'Hello Konstantin'})"
      ]
     },
     "execution_count": 2,
     "metadata": {},
     "output_type": "execute_result"
    }
   ],
   "source": [
    "# set of integers\n",
    "A = {3, 1, 2, 3}\n",
    "\n",
    "#set of strings\n",
    "Fruits = set(['apple', 'banana', 'cherry'])\n",
    "\n",
    "#set of mixed datatypes\n",
    "Mixed = {1.0, \"Hello Konstantin\", (1, 2, 3)}\n",
    "\n",
    "type(A), type(Fruits), type(Mixed), A, Fruits, Mixed"
   ]
  },
  {
   "cell_type": "markdown",
   "metadata": {
    "slideshow": {
     "slide_type": "subslide"
    }
   },
   "source": [
    "Observe the difference between the definitions:"
   ]
  },
  {
   "cell_type": "code",
   "execution_count": 4,
   "metadata": {
    "slideshow": {
     "slide_type": "fragment"
    }
   },
   "outputs": [
    {
     "data": {
      "text/plain": [
       "{'a', 'e', 'l', 'p'}"
      ]
     },
     "execution_count": 4,
     "metadata": {},
     "output_type": "execute_result"
    }
   ],
   "source": [
    "set('apple')"
   ]
  },
  {
   "cell_type": "code",
   "execution_count": 3,
   "metadata": {
    "slideshow": {
     "slide_type": "fragment"
    }
   },
   "outputs": [
    {
     "data": {
      "text/plain": [
       "{'apple'}"
      ]
     },
     "execution_count": 3,
     "metadata": {},
     "output_type": "execute_result"
    }
   ],
   "source": [
    "set(['apple'])"
   ]
  },
  {
   "cell_type": "markdown",
   "metadata": {
    "slideshow": {
     "slide_type": "fragment"
    }
   },
   "source": [
    "A set can be **empty**. \n",
    "However, recall that Python interprets empty curly braces **{}** as an empty **dictionary**.\n",
    "<br>\n",
    "So the only way to define an **empty set** is with the **set()** function:"
   ]
  },
  {
   "cell_type": "code",
   "execution_count": null,
   "metadata": {
    "slideshow": {
     "slide_type": "fragment"
    }
   },
   "outputs": [],
   "source": [
    "O_dict = {}\n",
    "O_set = set()\n",
    "type(O_dict), type(O_set)"
   ]
  },
  {
   "cell_type": "markdown",
   "metadata": {
    "slideshow": {
     "slide_type": "fragment"
    }
   },
   "source": [
    "- To check the **number of elements** in a set use **len()** function:"
   ]
  },
  {
   "cell_type": "code",
   "execution_count": 5,
   "metadata": {
    "slideshow": {
     "slide_type": "fragment"
    }
   },
   "outputs": [
    {
     "data": {
      "text/plain": [
       "3"
      ]
     },
     "execution_count": 5,
     "metadata": {},
     "output_type": "execute_result"
    }
   ],
   "source": [
    "len(A)"
   ]
  },
  {
   "cell_type": "markdown",
   "metadata": {
    "slideshow": {
     "slide_type": "slide"
    }
   },
   "source": [
    "<h3 align=\"center\">Operating on a set</h3>\n",
    "\n",
    "- We say that element $x \\in A$ if element $x$ belongs to set $A$ and $x \\notin A$ in the other case:"
   ]
  },
  {
   "cell_type": "code",
   "execution_count": 6,
   "metadata": {
    "slideshow": {
     "slide_type": "fragment"
    }
   },
   "outputs": [
    {
     "data": {
      "text/plain": [
       "(True, False)"
      ]
     },
     "execution_count": 6,
     "metadata": {},
     "output_type": "execute_result"
    }
   ],
   "source": [
    "'apple' in Fruits, 'pineapple' in Fruits"
   ]
  },
  {
   "cell_type": "markdown",
   "metadata": {
    "slideshow": {
     "slide_type": "fragment"
    }
   },
   "source": [
    "- Subset $B \\subseteq A$ if for every $x \\in B$, $x$ belongs to set $A$:"
   ]
  },
  {
   "cell_type": "code",
   "execution_count": 8,
   "metadata": {
    "scrolled": true,
    "slideshow": {
     "slide_type": "fragment"
    }
   },
   "outputs": [
    {
     "data": {
      "text/plain": [
       "(False, True)"
      ]
     },
     "execution_count": 8,
     "metadata": {},
     "output_type": "execute_result"
    }
   ],
   "source": [
    "A = {1, 2, 3}\n",
    "B = {2, 3, 4}\n",
    "C = {1}\n",
    "\n",
    "B.issubset(A), C.issubset(A)"
   ]
  },
  {
   "cell_type": "markdown",
   "metadata": {
    "slideshow": {
     "slide_type": "fragment"
    }
   },
   "source": [
    " - To check if two sets $A$ and $B$ have no elements in common:"
   ]
  },
  {
   "cell_type": "code",
   "execution_count": 9,
   "metadata": {
    "slideshow": {
     "slide_type": "fragment"
    }
   },
   "outputs": [
    {
     "data": {
      "text/plain": [
       "(False, True)"
      ]
     },
     "execution_count": 9,
     "metadata": {},
     "output_type": "execute_result"
    }
   ],
   "source": [
    "C.isdisjoint(A), C.isdisjoint(B)"
   ]
  },
  {
   "cell_type": "markdown",
   "metadata": {
    "slideshow": {
     "slide_type": "subslide"
    }
   },
   "source": [
    "- The **union** of two sets $A$ and $B$ is the set of elements which are or in $A$ or in $B$:\n",
    "$$A \\cup B = \\{ x | x\\in A \\text{ or } x \\in B \\}$$"
   ]
  },
  {
   "cell_type": "code",
   "execution_count": null,
   "metadata": {
    "slideshow": {
     "slide_type": "fragment"
    }
   },
   "outputs": [],
   "source": [
    "A.union(B), B.union(A), A | B, B | A"
   ]
  },
  {
   "cell_type": "markdown",
   "metadata": {
    "slideshow": {
     "slide_type": "fragment"
    }
   },
   "source": [
    "- The **intersection** of two sets $A$ and $B$ is the set of elements which are both in $A$ and $B$:\n",
    "$$A \\cap B = \\{ x | x\\in A \\text{ and } x \\in B \\}$$"
   ]
  },
  {
   "cell_type": "code",
   "execution_count": null,
   "metadata": {
    "slideshow": {
     "slide_type": "fragment"
    }
   },
   "outputs": [],
   "source": [
    "A.intersection(B), B.intersection(A), A & B, B & A"
   ]
  },
  {
   "cell_type": "markdown",
   "metadata": {
    "slideshow": {
     "slide_type": "fragment"
    }
   },
   "source": [
    "- The **difference** between two sets $A$ snd $B$ is the set of elements which are in $A$ but not in $B$:\n",
    "$$A - B = \\{ x | x\\in A \\text{ and } x \\notin B \\}$$"
   ]
  },
  {
   "cell_type": "code",
   "execution_count": null,
   "metadata": {
    "slideshow": {
     "slide_type": "fragment"
    }
   },
   "outputs": [],
   "source": [
    "A.difference(B), B.difference(A), A - B, B - A"
   ]
  },
  {
   "cell_type": "markdown",
   "metadata": {
    "slideshow": {
     "slide_type": "fragment"
    }
   },
   "source": [
    "- The **symmetric difference** between two sets $A$ and $B$ is the set of elements which are in either $A$ or $B$, but not both:\n",
    "$$A \\Delta B = \\{ x | (x\\in A \\text{ and } x \\notin B) \\text{ or } (x\\notin A \\text{ and } x \\in B) \\}$$"
   ]
  },
  {
   "cell_type": "code",
   "execution_count": null,
   "metadata": {
    "slideshow": {
     "slide_type": "fragment"
    }
   },
   "outputs": [],
   "source": [
    "A.symmetric_difference(B), B.symmetric_difference(A), A ^ B, B ^ A"
   ]
  },
  {
   "cell_type": "markdown",
   "metadata": {
    "slideshow": {
     "slide_type": "slide"
    }
   },
   "source": [
    "<h3 align=\"center\">Modifying a set</h3>\n",
    "\n",
    "- Although the elements contained in a set must be of **immutable**, **sets** themselves **can be modified**.\n",
    "- Each of the **union**, **intersection**, **difference**, and **symmetric difference** operators listed above has an augmented assignment form that can be used to modify a set:"
   ]
  },
  {
   "cell_type": "code",
   "execution_count": 10,
   "metadata": {
    "slideshow": {
     "slide_type": "fragment"
    }
   },
   "outputs": [
    {
     "data": {
      "text/plain": [
       "({1, 2, 3, 4}, {2, 3}, {1}, {1, 4}, {1, 2, 3, 4}, {2, 3}, {1}, {1, 4})"
      ]
     },
     "execution_count": 10,
     "metadata": {},
     "output_type": "execute_result"
    }
   ],
   "source": [
    "A1 = {1, 2, 3}\n",
    "A2 = {1, 2, 3}\n",
    "A3 = {1, 2, 3}\n",
    "A4 = {1, 2, 3}\n",
    "A5 = {1, 2, 3}\n",
    "A6 = {1, 2, 3}\n",
    "A7 = {1, 2, 3}\n",
    "A8 = {1, 2, 3}\n",
    "B  = {2, 3, 4}\n",
    "A1.update(B)\n",
    "A2.intersection_update(B)\n",
    "A3.difference_update(B)\n",
    "A4.symmetric_difference_update(B)\n",
    "A5 |= B\n",
    "A6 &= B\n",
    "A7 -= B\n",
    "A8 ^= B\n",
    "A1, A2, A3, A4, A5, A6, A7, A8"
   ]
  },
  {
   "cell_type": "markdown",
   "metadata": {
    "slideshow": {
     "slide_type": "subslide"
    }
   },
   "source": [
    "<h3 align=\"center\">Other methods for modifying sets</h3>\n",
    "\n",
    "- Python also supports several additional methods that modify sets:"
   ]
  },
  {
   "cell_type": "code",
   "execution_count": null,
   "metadata": {
    "slideshow": {
     "slide_type": "fragment"
    }
   },
   "outputs": [],
   "source": [
    "A = {1, 2, 3}\n",
    "A.add(4)    # add the element to the set\n",
    "A"
   ]
  },
  {
   "cell_type": "code",
   "execution_count": null,
   "metadata": {
    "slideshow": {
     "slide_type": "fragment"
    }
   },
   "outputs": [],
   "source": [
    "A.remove(2) # removes the element from the set, gives an error if there is no such element in the set\n",
    "A"
   ]
  },
  {
   "cell_type": "code",
   "execution_count": null,
   "metadata": {
    "slideshow": {
     "slide_type": "fragment"
    }
   },
   "outputs": [],
   "source": [
    "A.discard(2) # discards the element from the set, gives no error if there is no such element in the set\n",
    "A"
   ]
  },
  {
   "cell_type": "code",
   "execution_count": null,
   "metadata": {
    "slideshow": {
     "slide_type": "fragment"
    }
   },
   "outputs": [],
   "source": [
    "A.pop()      #pops out random element from the set\n",
    "A"
   ]
  },
  {
   "cell_type": "code",
   "execution_count": null,
   "metadata": {
    "slideshow": {
     "slide_type": "fragment"
    }
   },
   "outputs": [],
   "source": [
    "A.clear()    # clears the set\n",
    "A"
   ]
  },
  {
   "cell_type": "markdown",
   "metadata": {
    "slideshow": {
     "slide_type": "slide"
    }
   },
   "source": [
    "<h3 align=\"center\">Powerset and Cartesian product</h3>\n",
    "\n",
    "- Set of subsets (powerset) of the set $X$ will be $2^X = \\{A | A \\subseteq X\\}$:"
   ]
  },
  {
   "cell_type": "code",
   "execution_count": 13,
   "metadata": {
    "slideshow": {
     "slide_type": "fragment"
    }
   },
   "outputs": [
    {
     "data": {
      "text/plain": [
       "({1, 2, 3}, 3, {(), (1,), (1, 2), (1, 2, 3), (1, 3), (2,), (2, 3), (3,)}, 8)"
      ]
     },
     "execution_count": 13,
     "metadata": {},
     "output_type": "execute_result"
    }
   ],
   "source": [
    "from itertools import combinations, chain\n",
    "A = {1, 2, 3}\n",
    "pset = chain.from_iterable(set(combinations(A, i)) for i in range(len(A)+1))\n",
    "powerA = set(pset)\n",
    "A, len(A), powerA, len(powerA)"
   ]
  },
  {
   "cell_type": "markdown",
   "metadata": {
    "slideshow": {
     "slide_type": "fragment"
    }
   },
   "source": [
    "- Cartesian product of sets $A$ and $B$ is set of ordered pairs : $A\\times B = \\{(a, b) | a \\in A \\textrm{ and } b\\in B\\}$"
   ]
  },
  {
   "cell_type": "code",
   "execution_count": null,
   "metadata": {
    "slideshow": {
     "slide_type": "fragment"
    }
   },
   "outputs": [],
   "source": [
    "AxB = {(a, b) for a in A for b in B}\n",
    "AxB, len(A), len(B), len(AxB)"
   ]
  },
  {
   "cell_type": "markdown",
   "metadata": {
    "slideshow": {
     "slide_type": "subslide"
    }
   },
   "source": [
    "- One can generalize **intersections** and **unions** for **any number of sets**:\n",
    "\n",
    "$$A = \\cup_{i\\in I}A_i$$\n",
    "$$A = \\cap_{i\\in I}A_i$$\n"
   ]
  },
  {
   "cell_type": "code",
   "execution_count": null,
   "metadata": {
    "slideshow": {
     "slide_type": "fragment"
    }
   },
   "outputs": [],
   "source": [
    "n = 3  # number of sets\n",
    "e = 5  # max number of elements in each set\n",
    "v = 7 # max value of the element\n",
    "\n",
    "sets=[set() for i in range(n)]\n",
    "for i in range(n):\n",
    "    elements = np.random.randint(1,e)\n",
    "    for j in range(elements):\n",
    "        value = np.random.randint(0,v) \n",
    "        sets[i].add(value)\n",
    "\n",
    "usets = sets[0]\n",
    "isets = sets[0]\n",
    "for i in range(1,n):\n",
    "    usets = usets.union(sets[i])\n",
    "    isets = isets.intersection(sets[i])\n",
    "\n",
    "sets, usets, isets"
   ]
  },
  {
   "cell_type": "markdown",
   "metadata": {
    "slideshow": {
     "slide_type": "subslide"
    }
   },
   "source": [
    "- One can define **cartesian product** of **any number of sets**:\n",
    "\n",
    "$$\\prod_{i \\in I}{A_i}$$"
   ]
  },
  {
   "cell_type": "code",
   "execution_count": null,
   "metadata": {
    "slideshow": {
     "slide_type": "fragment"
    }
   },
   "outputs": [],
   "source": [
    "n = 3  # number of sets\n",
    "e = 5  # max number of elements in each set\n",
    "v = 7 # max value of the element\n",
    "\n",
    "sets=[set() for i in range(n)]\n",
    "for i in range(n):\n",
    "    elements = np.random.randint(1,e)\n",
    "    for j in range(elements):\n",
    "        value = np.random.randint(0,v) \n",
    "        sets[i].add(value)\n",
    "        \n",
    "psets = sets[0]\n",
    "for i in range(1, n):\n",
    "    psets = {(x, y) for x in psets for y in sets[i]}\n",
    "    \n",
    "sets, psets"
   ]
  },
  {
   "cell_type": "markdown",
   "metadata": {
    "slideshow": {
     "slide_type": "slide"
    }
   },
   "source": [
    "<h3 align=\"center\">How to create a scalars in Python?</h3>\n",
    "\n",
    "- The commonly used scalar types in Python are:\n",
    " - **int**: any integer;\n",
    " - **float**: floating point number (64 bit precision)\n",
    " - **complex**: numbers with an optional imaginary component, i.e. $a + i \\cdot b$;\n",
    " - **bool**: True, False;\n",
    " - **str**: a sequence of characters (can contain unicode characters).\n",
    " - **bytes**: a sequence of unsigned 8-bit entities, used for manipulating binary data;\n",
    " - **NoneType (None)**: Python’s null or nil equivalent, every instance of None is of NoneType.\n"
   ]
  },
  {
   "cell_type": "code",
   "execution_count": null,
   "metadata": {
    "slideshow": {
     "slide_type": "fragment"
    }
   },
   "outputs": [],
   "source": [
    "a = 2020 # int\n",
    "b = 3.14 # float\n",
    "c = 1+2j # complex\n",
    "d = True # bool\n",
    "e = \"Hello Konstantin\" # str\n",
    "f = bytes(8)\n",
    "g = None # NoneTyp\n",
    "type(a), type(b), type(c), type(d), type(e), type(f), type(g)"
   ]
  },
  {
   "cell_type": "markdown",
   "metadata": {
    "slideshow": {
     "slide_type": "slide"
    }
   },
   "source": [
    "<h3 align=\"center\">Examples</h3>"
   ]
  },
  {
   "cell_type": "code",
   "execution_count": null,
   "metadata": {
    "slideshow": {
     "slide_type": "fragment"
    }
   },
   "outputs": [],
   "source": [
    "a = 2020 # int\n",
    "b = 3.14 # float\n",
    "c = a + b\n",
    "d = (a == b)\n",
    "e = int(b)\n",
    "f = float(a)\n",
    "a, b, c, d, e, f, type(a), type(b), type(c), type(d), type (e), type(f)"
   ]
  },
  {
   "cell_type": "code",
   "execution_count": null,
   "metadata": {
    "slideshow": {
     "slide_type": "fragment"
    }
   },
   "outputs": [],
   "source": [
    "a = 1+1j\n",
    "b = 2+2j\n",
    "a * b"
   ]
  },
  {
   "cell_type": "code",
   "execution_count": null,
   "metadata": {
    "slideshow": {
     "slide_type": "fragment"
    }
   },
   "outputs": [],
   "source": [
    "a = 'Hello'\n",
    "b = ' '\n",
    "c = 'Konstantin'\n",
    "d = a + b + c\n",
    "2*d"
   ]
  },
  {
   "cell_type": "markdown",
   "metadata": {
    "slideshow": {
     "slide_type": "slide"
    }
   },
   "source": [
    "<h3 align=\"center\">How to create a function in Python?</h3>\n",
    "\n",
    "- The commonly used **functions**, $f:A \\to B$, in Python are:\n",
    " - **def**: standard Python function definition;\n",
    " - **lambda**: lambda construction of the function."
   ]
  },
  {
   "cell_type": "code",
   "execution_count": null,
   "metadata": {
    "slideshow": {
     "slide_type": "fragment"
    }
   },
   "outputs": [],
   "source": [
    "def power(x):  # power function takes an argument x and returns the squared number\n",
    "    return x**2\n",
    "power(8)"
   ]
  },
  {
   "cell_type": "code",
   "execution_count": null,
   "metadata": {
    "slideshow": {
     "slide_type": "fragment"
    }
   },
   "outputs": [],
   "source": [
    "f = lambda x: x**2 # lambda construction of the function, takes an argument x and returns the squared number\n",
    "f(8)"
   ]
  },
  {
   "cell_type": "markdown",
   "metadata": {
    "slideshow": {
     "slide_type": "fragment"
    }
   },
   "source": [
    " - One can also define the **function map** in Python as follows:"
   ]
  },
  {
   "cell_type": "code",
   "execution_count": null,
   "metadata": {
    "slideshow": {
     "slide_type": "fragment"
    }
   },
   "outputs": [],
   "source": [
    "A, set(map(f, A))"
   ]
  },
  {
   "cell_type": "markdown",
   "metadata": {
    "slideshow": {
     "slide_type": "slide"
    }
   },
   "source": [
    "<h3 align=\"center\">How to create a vectors in Python?</h3>\n",
    "\n",
    "- To be able to easily work with vectors in Python import **numpy** library:"
   ]
  },
  {
   "cell_type": "code",
   "execution_count": null,
   "metadata": {
    "slideshow": {
     "slide_type": "fragment"
    }
   },
   "outputs": [],
   "source": [
    "import sys\n",
    "!conda install --yes --prefix {sys.prefix} numpy"
   ]
  },
  {
   "cell_type": "code",
   "execution_count": null,
   "metadata": {
    "slideshow": {
     "slide_type": "fragment"
    }
   },
   "outputs": [],
   "source": [
    "import numpy as np"
   ]
  },
  {
   "cell_type": "code",
   "execution_count": null,
   "metadata": {
    "scrolled": true,
    "slideshow": {
     "slide_type": "fragment"
    }
   },
   "outputs": [],
   "source": [
    "x = {1, 2, 3, 4}  # set\n",
    "y = [1, 2, 3, 4]  # list\n",
    "z = np.array([1, 2, 3, 4, ])  # array in numpy\n",
    "x, y, z,  type(x), type(y), type(z)"
   ]
  },
  {
   "cell_type": "markdown",
   "metadata": {
    "slideshow": {
     "slide_type": "fragment"
    }
   },
   "source": [
    " - You can acces the array with index. (**Remember,** initial element of an array is assigned the index 0):"
   ]
  },
  {
   "cell_type": "code",
   "execution_count": null,
   "metadata": {
    "slideshow": {
     "slide_type": "fragment"
    }
   },
   "outputs": [],
   "source": [
    "y[0], y[1], y[2], y[3]"
   ]
  },
  {
   "cell_type": "code",
   "execution_count": null,
   "metadata": {
    "slideshow": {
     "slide_type": "fragment"
    }
   },
   "outputs": [],
   "source": [
    "y[-4], y[-3], y[-2], y[-1]"
   ]
  },
  {
   "cell_type": "code",
   "execution_count": null,
   "metadata": {
    "slideshow": {
     "slide_type": "fragment"
    }
   },
   "outputs": [],
   "source": [
    "y[-5], y[4] # what will be the result?"
   ]
  },
  {
   "cell_type": "markdown",
   "metadata": {
    "slideshow": {
     "slide_type": "subslide"
    }
   },
   "source": [
    "<h3 align=\"center\">Operating on a vectors</h3>\n",
    "\n",
    "- We can **add** two vectors $x$ and $y$ in Python as follows:"
   ]
  },
  {
   "cell_type": "code",
   "execution_count": null,
   "metadata": {
    "slideshow": {
     "slide_type": "fragment"
    }
   },
   "outputs": [],
   "source": [
    "x = np.array([1, 2, 3, 4])\n",
    "y = np.array([5, 6, 7, 8])\n",
    "x + y"
   ]
  },
  {
   "cell_type": "markdown",
   "metadata": {
    "slideshow": {
     "slide_type": "fragment"
    }
   },
   "source": [
    "- We can **multiply** a vector $x$ by a **scalar** $\\alpha$:"
   ]
  },
  {
   "cell_type": "code",
   "execution_count": null,
   "metadata": {
    "scrolled": true,
    "slideshow": {
     "slide_type": "fragment"
    }
   },
   "outputs": [],
   "source": [
    "alpha = 2\n",
    "2 * x, x * 2"
   ]
  },
  {
   "cell_type": "markdown",
   "metadata": {
    "slideshow": {
     "slide_type": "fragment"
    }
   },
   "source": [
    "- What will be the result of using lists or sets?"
   ]
  },
  {
   "cell_type": "code",
   "execution_count": null,
   "metadata": {
    "slideshow": {
     "slide_type": "fragment"
    }
   },
   "outputs": [],
   "source": [
    "x = [1, 2, 3, 4]  \n",
    "y = [5, 6, 7, 8]\n",
    "x + y, 2*x "
   ]
  },
  {
   "cell_type": "code",
   "execution_count": null,
   "metadata": {
    "slideshow": {
     "slide_type": "fragment"
    }
   },
   "outputs": [],
   "source": [
    "x = {1, 2, 3, 4} \n",
    "y = {5, 6, 7, 8}\n",
    "x + y, 2*x "
   ]
  },
  {
   "cell_type": "markdown",
   "metadata": {
    "slideshow": {
     "slide_type": "slide"
    }
   },
   "source": [
    "<h3 align=\"center\">Difference between set, list and dictionary</h3>\n",
    "\n",
    "$\\bullet$ Elements in a **set** have the following characteristics:\n",
    "<br>&emsp; $\\bullet$ They are **not dupliated**;\n",
    "<br>&emsp; $\\bullet$ They are **randomly ordered**;\n",
    "<br>&emsp; $\\bullet$ They can be of **any type**, and types can be **mixed**;\n",
    "<br>&emsp; $\\bullet$ if you will try to insert the duplicate element in **set** it would replace the existing value.\n",
    "\n",
    "$\\bullet$ Elements in a **list** have the following characteristics:\n",
    "<br>&emsp; $\\bullet$ They can be **duplicated**;\n",
    "<br>&emsp; $\\bullet$ They **maintain the ordering** unless explicitly re-ordered;\n",
    "<br>&emsp; $\\bullet$ They can be of **any type**, and types can be **mixed**;\n",
    "<br>&emsp; $\\bullet$ They are accessed via numeric indices.\n",
    " \n",
    "$\\bullet$ Elements in a **dictionary** have the following characteristics:\n",
    "<br>&emsp; $\\bullet$ Every entry has a **key** and a **value**;\n",
    "<br>&emsp; $\\bullet$ They are **randomly ordered**;\n",
    "<br>&emsp; $\\bullet$ They are **accessed using key** values;\n",
    "<br>&emsp; $\\bullet$ Values can be of **any type** (including other dict’s), and types can be **mixed**."
   ]
  },
  {
   "cell_type": "markdown",
   "metadata": {
    "slideshow": {
     "slide_type": "skip"
    }
   },
   "source": [
    "<h3 align=\"center\">When to use</h3>\n",
    "\n",
    " - Use a **set** for storing unique objects in **random order**;\n",
    " - Use a **list** if you have an **ordered** collection of items;\n",
    " - Use a **dictionary** when you have a set of **unique keys** that map to values.\n",
    " - Use a **numpy** library to work with vectors and matrices."
   ]
  },
  {
   "cell_type": "markdown",
   "metadata": {
    "slideshow": {
     "slide_type": "subslide"
    }
   },
   "source": [
    "<h3 align=\"center\">Examples</h3>"
   ]
  },
  {
   "cell_type": "code",
   "execution_count": null,
   "metadata": {
    "slideshow": {
     "slide_type": "fragment"
    }
   },
   "outputs": [],
   "source": [
    "A = {1, 2, 3, 3} # set\n",
    "B = {3, 2, 1} # set\n",
    "A == B"
   ]
  },
  {
   "cell_type": "code",
   "execution_count": null,
   "metadata": {
    "slideshow": {
     "slide_type": "fragment"
    }
   },
   "outputs": [],
   "source": [
    "A = [1, 2, 3] # list\n",
    "B = [3, 2, 1] # list\n",
    "A == B"
   ]
  },
  {
   "cell_type": "code",
   "execution_count": null,
   "metadata": {
    "slideshow": {
     "slide_type": "fragment"
    }
   },
   "outputs": [],
   "source": [
    "A = {'1' : 'one' , '2' : 'two', '3' : 'three'} # dict\n",
    "B = {'3' : 'three', '2' : 'two', '1' : 'one'  } # dict\n",
    "A == B"
   ]
  },
  {
   "cell_type": "markdown",
   "metadata": {
    "slideshow": {
     "slide_type": "slide"
    }
   },
   "source": [
    "<h3 align=\"center\">How to use Matplotlib</h3>"
   ]
  },
  {
   "cell_type": "code",
   "execution_count": 14,
   "metadata": {
    "slideshow": {
     "slide_type": "fragment"
    }
   },
   "outputs": [
    {
     "data": {
      "image/png": "[encoded data removed]",
      "text/plain": [
       "<Figure size 432x288 with 1 Axes>"
      ]
     },
     "metadata": {
      "needs_background": "light"
     },
     "output_type": "display_data"
    }
   ],
   "source": [
    "import numpy as np\n",
    "import matplotlib.pyplot as plt\n",
    "\n",
    "x = np.arange(-np.pi, np.pi, 0.01)\n",
    "y = np.sin(x)\n",
    "\n",
    "fig, ax = plt.subplots()\n",
    "ax.plot(x, y) # plotting the curve\n",
    "\n",
    "ax.set(xlabel='units in X', ylabel='units in Y', title='Simple Plot Title')\n",
    "ax.grid() # grid on\n",
    "\n",
    "fig.savefig(\"test.png\")\n",
    "plt.show()"
   ]
  },
  {
   "cell_type": "code",
   "execution_count": 15,
   "metadata": {
    "slideshow": {
     "slide_type": "subslide"
    }
   },
   "outputs": [
    {
     "data": {
      "image/png": "[encoded data removed]",
      "text/plain": [
       "<Figure size 432x288 with 1 Axes>"
      ]
     },
     "metadata": {
      "needs_background": "light"
     },
     "output_type": "display_data"
    }
   ],
   "source": [
    "import matplotlib\n",
    "import numpy as np\n",
    "import matplotlib.pyplot as plt\n",
    "\n",
    "np.random.seed(19680801)\n",
    "\n",
    "# example data\n",
    "mu = 1  # mean of distribution\n",
    "sigma = 1  # standard deviation of distribution\n",
    "x = mu + sigma * np.random.randn(1000000)\n",
    "\n",
    "num_bins = 50\n",
    "\n",
    "fig, ax = plt.subplots()\n",
    "\n",
    "# the histogram of the data\n",
    "n, bins, patches = ax.hist(x, num_bins, density=1)\n",
    "\n",
    "# add a 'best fit' line\n",
    "y = ((1 / (np.sqrt(2 * np.pi) * sigma)) *\n",
    "     np.exp(-0.5 * (1 / sigma * (bins - mu))**2))\n",
    "ax.plot(bins, y, '--')\n",
    "ax.set_xlabel('Randorm variable  X')\n",
    "ax.set_ylabel('Probability density')\n",
    "ax.set_title(r'Histogram of Gauss Distribution with : $\\mu=1$, $\\sigma=1$')\n",
    "\n",
    "# Tweak spacing to prevent clipping of ylabel\n",
    "fig.tight_layout()\n",
    "plt.show()"
   ]
  },
  {
   "cell_type": "markdown",
   "metadata": {
    "slideshow": {
     "slide_type": "slide"
    }
   },
   "source": [
    "<h1 align=\"center\">End of Workshop</h1>\n",
    "\n",
    "<h1 align=\"center\">The Next Will be a Lecture about Linear Transformations</h1>"
   ]
  }
 ],
 "metadata": {
  "celltoolbar": "Slideshow",
  "kernelspec": {
   "display_name": "Python 3",
   "language": "python",
   "name": "python3"
  },
  "language_info": {
   "codemirror_mode": {
    "name": "ipython",
    "version": 3
   },
   "file_extension": ".py",
   "mimetype": "text/x-python",
   "name": "python",
   "nbconvert_exporter": "python",
   "pygments_lexer": "ipython3",
   "version": "3.7.3"
  }
 },
 "nbformat": 4,
 "nbformat_minor": 2
}
