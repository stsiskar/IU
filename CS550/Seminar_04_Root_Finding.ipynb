{
 "cells": [
  {
   "cell_type": "markdown",
   "metadata": {
    "slideshow": {
     "slide_type": "notes"
    }
   },
   "source": [
    "**Artificial Inteligence (CS550)**\n",
    "<br>\n",
    "Date: **12 February 2020**\n",
    "<br>\n",
    "Location: **SU, NEW STEM building**\n",
    "<br>\n",
    "Room: **304**\n",
    "\n",
    "Title: **Seminar №4**\n",
    "<br>\n",
    "Speaker: **Dr. Shota Tsiskaridze**"
   ]
  },
  {
   "cell_type": "code",
   "execution_count": 1,
   "metadata": {
    "slideshow": {
     "slide_type": "skip"
    }
   },
   "outputs": [],
   "source": [
    "%load_ext autoreload\n",
    "%autoreload 2\n",
    "\n",
    "%matplotlib inline"
   ]
  },
  {
   "cell_type": "markdown",
   "metadata": {
    "slideshow": {
     "slide_type": "slide"
    }
   },
   "source": [
    "<h2 align=\"center\">Root Finding</h2>"
   ]
  },
  {
   "cell_type": "markdown",
   "metadata": {
    "slideshow": {
     "slide_type": "slide"
    }
   },
   "source": [
    "<h3 align=\"center\">Formulation of the problem</h3>\n",
    "\n",
    "- **Root Finding Problem.**\n",
    " - Refers to the general problem of **searching for a solution** of an equation $f(x) = 0$  for some function $f(x)$.\n",
    " - This is a very general problem and it comes up a lot in mathematics!\n",
    " - For example, if we want to optimize a function $f(x)$ then we need to find critical points and therefore solve the equation ${f}'(x)=0$.\n",
    " \n",
    "\n",
    "- **Analytical solution.**\n",
    " - There are **few examples** where there exist exact methods for finding solutions. \n",
    " - You can find the roots of the **quadratic equation**: $$ax^2 + bx + c =0,$$\n",
    "   simply by applying the formula: $$x = \\frac{-b \\pm \\sqrt{b^2 - 4ac}}{2a}.$$\n",
    " - There is a general formula to solve a **cubic equation** and even a **quartic equation**, but the formula is too complicated to be useful.\n",
    "\n",
    "\n",
    "- **What can we do when no analytical solution is known?** \n",
    " - Use numerical methods to find approximate solutions.\n"
   ]
  },
  {
   "cell_type": "markdown",
   "metadata": {
    "slideshow": {
     "slide_type": "slide"
    }
   },
   "source": [
    "<h3 align=\"center\">Bisection Method</h3>\n",
    "\n",
    "- **Applicability:** The algorithm applies to any continuous function $f(x)$ on an interval $[a,b]$ where the function $f(x)$ changes sign, i.e. $f(a)\\cdot f(b) < 0$\n",
    "<center><img src=\"images/Bisection.gif\" width=\"400\" height=\"300\" alt=\"Example\" /></center>\n",
    "- The **bisection method**:\n",
    " - divides the interval in two, selects the subinterval where the sign of $f(x)$ changes and repeats.\n",
    " - is based on the **Intermediate Value Theorem**;\n",
    " - does not (in general) produce an exact solution of an equation $f(x)=0$;\n",
    " - give an estimate of the absolute error in the approxiation;\n",
    "  - always converges to a root of $f(x) = 0$."
   ]
  },
  {
   "cell_type": "markdown",
   "metadata": {
    "slideshow": {
     "slide_type": "subslide"
    }
   },
   "source": [
    "<h3 align=\"center\">Bisection Method: Algorithm</h3>\n",
    "\n",
    "The bisection method procedure is:\n",
    " 1. Choose a starting interval $[a_0, b_0]$ such that $f(a_0)\\cdot f(b_0) < 0$;\n",
    " 2. For each sub-interval $[a_n, b_n]$ take a midpoint of $m_n = (a_n + b_n)/2$ and compute $f(m_n)$;\n",
    " 3. Determine the next sub-interval $[a_{n+1}, b_{n+1}]$:\n",
    "   - if $f(a_n)\\cdot f(m_n) < 0$, then $[a_{n+1}, b_{n+1}] = [a_n, m_n]$;\n",
    "   - if $f(b_n)\\cdot f(m_n) < 0$, then $[a_{n+1}, b_{n+1}] = [m_n, b_n]$;\n",
    " 4. Repeat (2) and (3) until the interval $[a_N, b_N]$ reaches some predetermined length;\n",
    " 5. Return the midpoint value $m_N$."
   ]
  },
  {
   "cell_type": "markdown",
   "metadata": {
    "slideshow": {
     "slide_type": "subslide"
    }
   },
   "source": [
    "<h3 align=\"center\">Bisection Method: Implementation</h3>"
   ]
  },
  {
   "cell_type": "code",
   "execution_count": 2,
   "metadata": {
    "slideshow": {
     "slide_type": "subslide"
    }
   },
   "outputs": [],
   "source": [
    "def bisection(f,a,b,N):\n",
    "    \"\"\"\n",
    "    Input: f = function, a = float, b = float, N = integer (positive)\n",
    "    f : the function for which we are trying to approximate a solution f(x)=0.\n",
    "    a : left border of the initial interval.\n",
    "    b : right border of the initial interval.\n",
    "    N : the number of iterations to implement.\n",
    "    \n",
    "    Output:\n",
    "    x_N : the midpoint of the Nth interval computed by the bisection method.\n",
    "    \n",
    "    \"\"\"\n",
    "    \n",
    "    if (f(a) * f(b) >= 0):\n",
    "        print(\"Bisection method fails.\")\n",
    "        return None\n",
    "    \n",
    "    a_n = a\n",
    "    b_n = b\n",
    "    for n in range(0, N):\n",
    "        m_n = (a_n + b_n)/2\n",
    "        f_m_n = f(m_n)\n",
    "        if f(a_n)*f_m_n < 0:\n",
    "            a_n = a_n\n",
    "            b_n = m_n\n",
    "        elif f(b_n)*f_m_n < 0:\n",
    "            a_n = m_n\n",
    "            b_n = b_n\n",
    "        elif f_m_n == 0:\n",
    "            print(\"Found exact solution.\")\n",
    "            return m_n\n",
    "        else:\n",
    "            print(\"Bisection method fails.\")\n",
    "            return None\n",
    "    return (a_n + b_n)/2"
   ]
  },
  {
   "cell_type": "markdown",
   "metadata": {
    "slideshow": {
     "slide_type": "subslide"
    }
   },
   "source": [
    "<h3 align=\"center\">Example: Golden Ration</h3>\n",
    "\n",
    "Let's use our function with input parameters $f(x) = x^2 - x - 1$ and $N = 25$ iterations on $[a, b] = [1, 2]$ to approximate the **golden ratio**:\n",
    "\n",
    "$$\\phi = \\frac{1 + \\sqrt{5}}{2}$$\n",
    "The golden ratio $\\phi$ is a root of $f(x)$,"
   ]
  },
  {
   "cell_type": "code",
   "execution_count": 3,
   "metadata": {
    "slideshow": {
     "slide_type": "fragment"
    }
   },
   "outputs": [
    {
     "data": {
      "text/plain": [
       "1.618033990263939"
      ]
     },
     "execution_count": 3,
     "metadata": {},
     "output_type": "execute_result"
    }
   ],
   "source": [
    "f = lambda x: x**2 - x - 1\n",
    "phi_approx = bisection(f,1,2,25)\n",
    "phi_approx"
   ]
  },
  {
   "cell_type": "markdown",
   "metadata": {
    "slideshow": {
     "slide_type": "fragment"
    }
   },
   "source": [
    "The absolute error is guaranteed to be less than $(a-b)/2^{N+1} = 2^{-26}$."
   ]
  },
  {
   "cell_type": "code",
   "execution_count": 4,
   "metadata": {
    "slideshow": {
     "slide_type": "fragment"
    }
   },
   "outputs": [
    {
     "data": {
      "text/plain": [
       "1.4901161193847656e-08"
      ]
     },
     "execution_count": 4,
     "metadata": {},
     "output_type": "execute_result"
    }
   ],
   "source": [
    "error_bound = 2**(-26)\n",
    "error_bound"
   ]
  },
  {
   "cell_type": "markdown",
   "metadata": {
    "slideshow": {
     "slide_type": "subslide"
    }
   },
   "source": [
    "Let's verify that absolute error is in the error bound."
   ]
  },
  {
   "cell_type": "code",
   "execution_count": 5,
   "metadata": {
    "slideshow": {
     "slide_type": "fragment"
    }
   },
   "outputs": [
    {
     "data": {
      "text/plain": [
       "True"
      ]
     },
     "execution_count": 5,
     "metadata": {},
     "output_type": "execute_result"
    }
   ],
   "source": [
    "phi_true = (1 + 5**0.5)/2\n",
    "abs(phi_true - phi_approx) < error_bound"
   ]
  },
  {
   "cell_type": "markdown",
   "metadata": {
    "slideshow": {
     "slide_type": "slide"
    }
   },
   "source": [
    "<h3 align=\"center\">Secant Method</h3>\n",
    "\n",
    "- **Applicability:** The algorithm applies to any continuous function $f(x)$ on an interval $[a,b]$ where the function $f(x)$ changes sign, i.e. $f(a)\\cdot f(b) < 0$.\n",
    "<center><img src=\"images/Secant.gif\" width=\"350\" height=\"300\" alt=\"Example\" /></center>\n",
    "- The **secant  method**:\n",
    " - is very similar to the bisection method except instead of dividing each interval by choosing the midpoint the secant method divides each interval by the secant line connecting the endpoints;\n",
    " - is based on the **Intermediate Value Theorem**;\n",
    " - always converges to a root of $f(x) = 0$.\n",
    "\n",
    "\n",
    "\n"
   ]
  },
  {
   "cell_type": "markdown",
   "metadata": {
    "slideshow": {
     "slide_type": "subslide"
    }
   },
   "source": [
    "<h3 align=\"center\">Secant Line Formula</h3>\n",
    "\n",
    "Let $f(x)$ be a continuous function on a closed interval $[a,b]$ such that $f(a)\\cdot f(b) < 0$.\n",
    "<br>\n",
    "Consider the line connecting the endpoint values $(a, f(a))$ and $(b, f(b))$.\n",
    "<br> The line connecting these two points is called the **secant line** and is given by the formula:\n",
    "\n",
    "$$y = \\frac{f(b) - f(a)}{b-a}(x-a) + f(a).$$\n",
    "\n",
    "The point where the secant line crosses the $x$-axis is given by:\n",
    "\n",
    "$$0 = \\frac{f(b) - f(a)}{b-a}(x-a) + f(a).$$\n",
    "\n",
    "which gives us the solution $x$:\n",
    "\n",
    "$$x = a - f(a) \\frac{b-a}{f(b) - f(a)}.$$\n",
    "\n",
    "\n"
   ]
  },
  {
   "cell_type": "markdown",
   "metadata": {
    "slideshow": {
     "slide_type": "subslide"
    }
   },
   "source": [
    "<h3 align=\"center\">Secant Method: Algorithm</h3>\n",
    "\n",
    "The bisection method procedure is:\n",
    " 1. Choose a starting interval $[a_0, b_0]$ such that $f(a_0)\\cdot f(b_0) < 0$;\n",
    " 2. Compute $f(x_n)$, where $x_n$ is given by the secant line:\n",
    " $$x_n = a_n - f(a_n) \\frac{b_n-a_n}{f(b_n) - f(a_n)}.$$\n",
    " 3. Determine the next sub-interval $[a_{n+1}, b_{n+1}]$:\n",
    "   - if $f(a_n)\\cdot f(m_n) < 0$, then $[a_{n+1}, b_{n+1}] = [a_n, m_n]$;\n",
    "   - if $f(b_n)\\cdot f(m_n) < 0$, then $[a_{n+1}, b_{n+1}] = [m_n, b_n]$;\n",
    "   \n",
    "   \n",
    " 4. Repeat (2) and (3) until the interval $[a_N, b_N]$ reaches some predetermined length;\n",
    " 5. Return the value $x_N$."
   ]
  },
  {
   "cell_type": "markdown",
   "metadata": {
    "slideshow": {
     "slide_type": "subslide"
    }
   },
   "source": [
    "<h3 align=\"center\">Secant Method: Implementation</h3>\n"
   ]
  },
  {
   "cell_type": "code",
   "execution_count": 6,
   "metadata": {
    "slideshow": {
     "slide_type": "subslide"
    }
   },
   "outputs": [],
   "source": [
    "def secant(f,a,b,N):\n",
    "    \"\"\"\n",
    "    Input: f = function, a = float, b = float, N = integer (positive)\n",
    "    f : the function for which we are trying to approximate a solution f(x)=0.\n",
    "    a : left border of the initial interval.\n",
    "    b : right border of the initial interval.\n",
    "    N : the number of iterations to implement.\n",
    "    \n",
    "    Output:\n",
    "    x_N : the value x_N of the Nth interval computed by the secant method.\n",
    "    \n",
    "    \"\"\"\n",
    "    \n",
    "    if f(a)*f(b) >= 0:\n",
    "        print(\"Secant method fails.\")\n",
    "        return None\n",
    "    a_n = a\n",
    "    b_n = b\n",
    "    for n in range(0,N):\n",
    "        m_n = a_n - f(a_n)*(b_n - a_n)/(f(b_n) - f(a_n))\n",
    "        f_m_n = f(m_n)\n",
    "        if f(a_n)*f_m_n < 0:\n",
    "            a_n = a_n\n",
    "            b_n = m_n\n",
    "        elif f(b_n)*f_m_n < 0:\n",
    "            a_n = m_n\n",
    "            b_n = b_n\n",
    "        elif f_m_n == 0:\n",
    "            print(\"Found exact solution.\")\n",
    "            return m_n\n",
    "        else:\n",
    "            print(\"Secant method fails.\")\n",
    "            return None\n",
    "    return a_n - f(a_n)*(b_n - a_n)/(f(b_n) - f(a_n))"
   ]
  },
  {
   "cell_type": "markdown",
   "metadata": {
    "slideshow": {
     "slide_type": "subslide"
    }
   },
   "source": [
    "<h3 align=\"center\">Example: Supergolden Ration</h3>\n",
    "\n",
    " Let's find an approximation of the **supergolden ratio**: the only real root of the function $g(x) = x^3 - x^2 - 1$.\n",
    " \n",
    "Let's use our function with input parameters $g(x) = x^3 - x^2 - 1$ and $N = 25$ iterations on $[a, b] = [1, 2]$ to approximate the **supergolden ratio**:\n",
    "\n",
    "$$\\psi = \\frac{1 + \\sqrt[3]{\\frac{29 + 3\\sqrt{93}}{2}} + \\sqrt[3]{\\frac{29 - 3\\sqrt{93}}{2}}}{3}.$$"
   ]
  },
  {
   "cell_type": "code",
   "execution_count": 7,
   "metadata": {
    "slideshow": {
     "slide_type": "fragment"
    }
   },
   "outputs": [
    {
     "data": {
      "text/plain": [
       "(-1, 3)"
      ]
     },
     "execution_count": 7,
     "metadata": {},
     "output_type": "execute_result"
    }
   ],
   "source": [
    "g = lambda x: x**3 - x**2 - 1\n",
    "g(1), g(2)"
   ]
  },
  {
   "cell_type": "code",
   "execution_count": 8,
   "metadata": {
    "slideshow": {
     "slide_type": "fragment"
    }
   },
   "outputs": [
    {
     "data": {
      "text/plain": [
       "1.4655712318713536"
      ]
     },
     "execution_count": 8,
     "metadata": {},
     "output_type": "execute_result"
    }
   ],
   "source": [
    "psi_approx = secant(g, 1, 2, 25)\n",
    "psi_approx"
   ]
  },
  {
   "cell_type": "markdown",
   "metadata": {
    "slideshow": {
     "slide_type": "subslide"
    }
   },
   "source": [
    "Let's compare our approximation with the exact solution:"
   ]
  },
  {
   "cell_type": "code",
   "execution_count": 9,
   "metadata": {
    "slideshow": {
     "slide_type": "fragment"
    }
   },
   "outputs": [
    {
     "data": {
      "text/plain": [
       "5.4145576910968884e-12"
      ]
     },
     "execution_count": 9,
     "metadata": {},
     "output_type": "execute_result"
    }
   ],
   "source": [
    "psi_true = (1 + ((29 + 3*93**0.5)/2)**(1/3) + ((29 - 3*93**0.5)/2)**(1/3))/3\n",
    "error = abs(psi_approx - psi_true)\n",
    "error"
   ]
  },
  {
   "cell_type": "markdown",
   "metadata": {
    "slideshow": {
     "slide_type": "slide"
    }
   },
   "source": [
    "<h3 align=\"center\">Newton's Method</h3>\n",
    "\n",
    "- **Applicability:** The algorithm applies to any continuous function $f(x)$ on an interval $[a,b]$ where the function $f(x)$ changes sign, i.e. $f(a)\\cdot f(b) < 0$.\n",
    "<center><img src=\"images/Newton.gif\" width=\"400\" height=\"300\" alt=\"Example\" /></center>\n",
    "- The **Newton  method**:\n",
    " - is a root finding method that uses linear approximation.\n",
    " - guess a solution $x_0$ of the equation $f(x)=0$, compute the linear approximation of $f(x)$ at $x_0$ and then find the $x$-intercept of the linear approximation.\n",
    " - usually converges very quickly and this is its main advantage.\n",
    " - is not guaranteed to converge and this is obviously a big disadvantage.\n",
    "\n",
    "\n",
    "\n"
   ]
  },
  {
   "cell_type": "markdown",
   "metadata": {
    "slideshow": {
     "slide_type": "subslide"
    }
   },
   "source": [
    "<h3 align=\"center\">Newton's Formula</h3>\n",
    "\n",
    "Let $f(x)$ be a differentiable function. If $x_0$ is a near a solution of $f(x) = 0$, then we can approximate $f(x)$ by the tangent line at $x_0$ and compute the $x$-intercept of the tangent line. The equation of the tangent line at $x_0$ is:\n",
    "$$y = {f}'(x_0)(x-x_0) + f(x_0).$$\n",
    "\n",
    "The $x_0$-intercept is $x_1$ the solution  of the equation:\n",
    "\n",
    "$$0 = {f}'(x_0)(x_1-x_0) + f(x_0),$$\n",
    "and we solve for $x_1$:\n",
    "$$x_1 = x_0  - \\frac{f(x_0)}{{f}'(x_0)}.$$\n",
    "\n",
    "If we implement this procedure repeatedly, then we obtain a sequence given by the recursive formula:\n",
    "\n",
    "$$x_{n+1} = x_n - \\frac{f(x_n)}{{f}'(x_n)}.$$\n",
    "\n",
    "which (potentially) converges to a solution of the equation $f(x) = 0$."
   ]
  },
  {
   "cell_type": "markdown",
   "metadata": {
    "slideshow": {
     "slide_type": "subslide"
    }
   },
   "source": [
    "<h3 align=\"center\">Newton's Method: Implementation</h3>\n"
   ]
  },
  {
   "cell_type": "code",
   "execution_count": 10,
   "metadata": {
    "slideshow": {
     "slide_type": "subslide"
    }
   },
   "outputs": [],
   "source": [
    "def newton(f,Df,x0,eps,imax):\n",
    "    \"\"\"\n",
    "    Input: f = function, Df = function, x0 = float, eps = float, imax = integer (positive)\n",
    "    f    : the function for which we are trying to approximate a solution f(x)=0.\n",
    "    Df   : derivative of f(x).\n",
    "    x0   : initial guess for a solution f(x)=0.\n",
    "    eps  : stopping criteria is abs(f(x)) < eps.\n",
    "    imax : maximum number of iterations of Newton's method.\n",
    "    \n",
    "    Output:\n",
    "    x_N : the value x_N of the intercept of the tangent line after Nth iterations.\n",
    "    \"\"\"\n",
    "    \n",
    "    xn = x0\n",
    "    for n in range(0,imax):\n",
    "        f_x_n = f(xn)\n",
    "        if abs(f_x_n) < eps:\n",
    "            print('Found solution after',n,'iterations.')\n",
    "            return xn\n",
    "        Df_x_n = Df(xn)\n",
    "        if Df_x_n == 0:\n",
    "            print('Zero derivative. No solution found.')\n",
    "            return None\n",
    "        xn = xn - f_x_n/Df_x_n\n",
    "    print('Exceeded maximum iterations. No solution found.')\n",
    "    return None"
   ]
  },
  {
   "cell_type": "markdown",
   "metadata": {
    "slideshow": {
     "slide_type": "subslide"
    }
   },
   "source": [
    "<h3 align=\"center\">Example: Supergolden Ration</h3>\n",
    "\n",
    " Let's find an approximation of the **supergolden ratio** using the **Newton's Method**: the only real root of the function $f(x) = x^3 - x^2 - 1$.\n",
    " \n",
    "$$\\psi = \\frac{1 + \\sqrt[3]{\\frac{29 + 3\\sqrt{93}}{2}} + \\sqrt[3]{\\frac{29 - 3\\sqrt{93}}{2}}}{3}.$$"
   ]
  },
  {
   "cell_type": "code",
   "execution_count": 11,
   "metadata": {
    "slideshow": {
     "slide_type": "fragment"
    }
   },
   "outputs": [
    {
     "name": "stdout",
     "output_type": "stream",
     "text": [
      "Found solution after 6 iterations.\n"
     ]
    },
    {
     "data": {
      "text/plain": [
       "1.4655712318767877"
      ]
     },
     "execution_count": 11,
     "metadata": {},
     "output_type": "execute_result"
    }
   ],
   "source": [
    "g = lambda x: x**3 - x**2 - 1\n",
    "Dg = lambda x: 3*x**2 - 2*x\n",
    "psi_approx = newton(g,Dg,1,1e-10,20)\n",
    "psi_approx"
   ]
  },
  {
   "cell_type": "markdown",
   "metadata": {
    "slideshow": {
     "slide_type": "subslide"
    }
   },
   "source": [
    "<h3 align=\"center\">Divergent Example</h3>\n",
    "\n",
    "Newton's method **diverges** in certain cases. For example, if the tangent line at the root is vertical as in $f(x) = x^{1/3}$."
   ]
  },
  {
   "cell_type": "code",
   "execution_count": 12,
   "metadata": {
    "slideshow": {
     "slide_type": "fragment"
    }
   },
   "outputs": [
    {
     "name": "stdout",
     "output_type": "stream",
     "text": [
      "Exceeded maximum iterations. No solution found.\n"
     ]
    }
   ],
   "source": [
    "h = lambda x: x**(1/3)\n",
    "Dh = lambda x: (1/3)*x**(-2/3)\n",
    "approx = newton(h,Dh,0.1,1e-2,1000)"
   ]
  },
  {
   "cell_type": "markdown",
   "metadata": {
    "slideshow": {
     "slide_type": "slide"
    }
   },
   "source": [
    "<h3 align=\"center\">Exercises</h3>\n",
    "\n",
    "1. Consider the function $h(x) = x^3 - x - 1$. The only real root of $h(x)$ is called the **plastic number** and is given by:\n",
    "\n",
    "$$\\varphi = \\frac{\\sqrt[3]{108 + 12\\sqrt{69}}+ \\sqrt[3]{108 - 12\\sqrt{69}}}{6}$$\n",
    "\n",
    "2. Choose $x_0$ and implement $5$ iterations of Newton's method to approximate the plastic number for $h(x)$.\n",
    "3. Use the exact value above to compute the absolute error after 2 iterations of **Newton's method**.\n",
    "4. Starting with the sub-interval $[1,2]$, how many iterations of the **bisection method** is required to achieve the same accuracy?\n",
    "4. Starting with the sub-interval $[1,2]$, how many iterations of the **secant method** is required to achieve the same accuracy?"
   ]
  },
  {
   "cell_type": "code",
   "execution_count": null,
   "metadata": {},
   "outputs": [],
   "source": []
  }
 ],
 "metadata": {
  "celltoolbar": "Slideshow",
  "kernelspec": {
   "display_name": "Python 3",
   "language": "python",
   "name": "python3"
  },
  "language_info": {
   "codemirror_mode": {
    "name": "ipython",
    "version": 3
   },
   "file_extension": ".py",
   "mimetype": "text/x-python",
   "name": "python",
   "nbconvert_exporter": "python",
   "pygments_lexer": "ipython3",
   "version": "3.7.3"
  }
 },
 "nbformat": 4,
 "nbformat_minor": 2
}
