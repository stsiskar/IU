{
 "cells": [
  {
   "cell_type": "markdown",
   "metadata": {
    "slideshow": {
     "slide_type": "notes"
    }
   },
   "source": [
    "**Artificial Inteligence (CS550)**\n",
    "\n",
    "Title: **Homework №1**\n",
    "<br>\n",
    "Date: **29 January 2020**\n",
    "<br>\n",
    "Deadline: **12 February 2020**\n",
    "\n",
    "Homework will be evaluated maximum by **6 points**.\n",
    "Each problem is **one point**. "
   ]
  },
  {
   "cell_type": "markdown",
   "metadata": {
    "slideshow": {
     "slide_type": "slide"
    }
   },
   "source": [
    "<h3 align=\"center\">Problem 1: Vectors vs Functionals</h3>\n",
    "\n",
    "Let's take any scalar field $\\mathcal{F}$ and consider the vector space $\\mathcal{V} = \\mathcal{F}^n$ over the field $\\mathcal{F}$.\n",
    "<br>\n",
    "It is easy to see that $\\mathcal{V}$ is $n$-dimensional vector space, i.e. the basis in $\\mathcal{V}$ consists of $n$ vector.\n",
    "\n",
    "Let's consider any two bases $\\mathcal{X} = \\{x_1, ..., x_n\\}$ and $\\mathcal{X}' = \\{{x_1}', ..., {x_n}'\\}$ in $\\mathcal{V}$,\n",
    "<br>\n",
    "and corresponding dual bases $\\mathcal{Y} = \\{y_1, ..., y_n\\}$ and $\\mathcal{Y}' = \\{{y_1}', ..., {y_n}'\\}$  in $\\mathcal{V}'$, so that: \n",
    "\n",
    "$$y_i (x_j) = \\delta_{ij} \\text{ and } {y_i}' ({x_j}') = \\delta_{ij} \\text { for } i,j = \\overline{1,n}.$$\n",
    "\n",
    "Since $\\mathcal{X}$ and $\\mathcal{X}'$ are bases in $\\mathcal{V}$, we can express $\\mathcal{X}'$ through $\\mathcal{X}$:\n",
    "\n",
    "$${x_i}' = Ax_i.$$\n",
    "Similarly, we can express $\\mathcal{Y}'$ through $\\mathcal{Y}$:\n",
    "$${y_i}' = By_i.$$\n",
    "<br>\n",
    "Here, $A$ and $B$ are linear transformations in $\\mathcal{V}$ and $\\mathcal{V}'$ respectively.\n",
    "\n",
    "How do $A$ and $B$ depend on each other? \n",
    "<br>\n",
    "In other words, express $B$ through $A$."
   ]
  },
  {
   "cell_type": "markdown",
   "metadata": {
    "slideshow": {
     "slide_type": "slide"
    }
   },
   "source": [
    "<h3 align=\"center\">Problem 2: Sigmoid Function</h3>\n",
    "\n",
    "$\\textbf{Historical reference}$. A **sigmoid function** is a mathematical function whose name comes from the Greek letter Sigma, and when graphed, appears as a $S$-shaped curve or **sigmoid curve**. A sigmoidal function is a type of **logistic function** and purely refers to any function that retains the $S$-shape. Traditionaly sigmoidal function exists between $0$ and $1$.\n",
    "\n",
    "$\\textbf{Sigmoid functions in Machine Learning (ML)}$. A **sigmoid functions** are frequently used in **ML**, specifically in the testing of **artificial neural networks**, as a way of understanding the output of a node or **neuron**. For example, a neural network may attempt to find a desired solution given a set of inputs. A sigmoidal function will determine the output and that output will be used as the input for the following node. This process will repeat until the solution to the original problem is found."
   ]
  },
  {
   "cell_type": "markdown",
   "metadata": {
    "slideshow": {
     "slide_type": "slide"
    }
   },
   "source": [
    "\n",
    "\n",
    "$\\bullet$ A standard choice of **sigmoid function** is a **logistic function** determined by the formula:\n",
    "\n",
    "$$\\sigma(x) = \\frac{1}{1+e^{-x}}.$$\n",
    "\n",
    "Prove that:\n",
    "\n",
    "(a) $0 \\leq \\sigma(x) \\leq 1$ for any $x \\in (-\\infty , +\\infty )$;\n",
    "\n",
    "(b) $\\sigma(x)$ is not linear, i.e. $\\sigma \\left ( \\alpha x + \\beta y \\right ) \\neq \\alpha \\sigma \\left ( x \\right ) + \\beta \\sigma \\left ( y \\right )$;\n",
    "\n",
    "(c) $\\sigma(x)$ is monotonic, i.e. if $x < y$ then $\\sigma(x) < \\sigma(y)$;\n",
    "\n",
    "(d) ${\\sigma}'(x)= \\frac{d}{dx}\\sigma(x)$ is continuous and it can be expressed through $\\sigma(x)$."
   ]
  },
  {
   "cell_type": "code",
   "execution_count": null,
   "metadata": {
    "slideshow": {
     "slide_type": "subslide"
    }
   },
   "outputs": [],
   "source": [
    "#(5) Fill the missing code!\n",
    "\n",
    "import numpy as np\n",
    "import matplotlib.pyplot as plt\n",
    "import math\n",
    "\n",
    "plt.figure(figsize=(16, 7))                                       # define the size of figure in inches\n",
    "x = np.linspace(-7, 7, 100)\n",
    "\n",
    "# Sigmoid function\n",
    "sigmoid = np.vectorize(lambda x: 1 / (1 + math.exp(-x)))\n",
    "\n",
    "plt.subplot(121)                                                  # select the subplot 121 = 1 row + 2 columns + 1st position\n",
    "plt.plot(x, sigmoid(x))                                           # plot the points\n",
    "plt.title(\"$\\sigma(x) = 1/(1 + e^{-x})$\", fontsize=20)            # Title of the plot\n",
    "plt.xlabel(\"x\",           fontsize=20)                            # x-axis label\n",
    "plt.ylabel(\"$\\sigma(x)$\", fontsize=20)                            # y-axis label\n",
    "plt.ylim(-0.045,1.045)                                            # set the limits on the y-axes\n",
    "plt.grid()                                                        # show grid\n",
    "\n",
    "# Sigmoid function derivative\n",
    "sigmoid_prime = \n",
    "\n",
    "plt.subplot(122)                                                  # select the subplot 122 = 1 row + 2 columns + 2nd position\n",
    "plt.plot(x, sigmoid_prime(x))                                     # plot the points\n",
    "plt.title(\"$\\sigma'(x) = ?$\", fontsize=20)                        # Title of the plot\n",
    "plt.xlabel(\"x\",            fontsize=20)                           # x-axis label\n",
    "plt.ylabel(\"$\\sigma'(x)$\", fontsize=20)                           # y-axis label\n",
    "plt.ylim(-0.045,1.045)                                            # set the limits on the y-axes\n",
    "plt.grid()                                                        # show grid"
   ]
  },
  {
   "cell_type": "markdown",
   "metadata": {
    "slideshow": {
     "slide_type": "slide"
    }
   },
   "source": [
    "<h3 align=\"center\">Problem 3: Logical Operations</h3>\n",
    "\n",
    "$\\bullet$ Let's get **logical operations** from **sigmoidal function** $\\sigma(x)$.\n",
    "<br>\n",
    "$\\bullet$ Logical Operations ($LO$) for the logical variables $A$ and $B$ are:\n",
    "\n",
    "| A | B | A **and** B | A **or** B | A **xor** B |\n",
    "|---|---|:-----------:|:----------:|:-----------:|\n",
    "| 0 | 0 |      0      |     0      |      0      |\n",
    "| 0 | 1 |      0      |     1      |      1      |\n",
    "| 1 | 0 |      0      |     1      |      1      |\n",
    "| 1 | 1 |      1      |     1      |      0      |\n",
    "\n",
    "Let's define our $LO$ through $\\sigma(x)$ as follows:\n",
    "\n",
    "$$\\mathcal{L}(A, B) = \\sigma \\left ( W^T \\cdot X + b\\right ),$$\n",
    "\n",
    "where\n",
    "$W = \\begin{pmatrix}\n",
    "w_1 \\\\ \n",
    "w_2\n",
    "\\end{pmatrix}$ is a vector of **Weights**, $X= \n",
    "\\begin{pmatrix}\n",
    "A \\\\ \n",
    "B\n",
    "\\end{pmatrix}\n",
    "$ is our **input vector**, and $b$ is a **bias**.\n",
    "\n",
    "Selecting the appropriate values for $W$ and $b$ can give us $and$ and $or$ logical operations.\n",
    "You can find the python code for $and$ logical operation below."
   ]
  },
  {
   "cell_type": "code",
   "execution_count": null,
   "metadata": {
    "scrolled": true,
    "slideshow": {
     "slide_type": "subslide"
    }
   },
   "outputs": [],
   "source": [
    "import numpy as np\n",
    "import math\n",
    "\n",
    "# let's define Input variables as an array\n",
    "X = [[0, 0], [0, 1], [1, 0], [1, 1]] \n",
    "\n",
    "# before we use sigmoid function we need to modify our input to one scalar\n",
    "W = np.array([20, 20]) # Weights\n",
    "b = np.array([-30])    # bias\n",
    "\n",
    "# Let's define our sigmoid function\n",
    "sigmoid = np.vectorize(lambda x: 1 / (1 + math.exp(-x))) \n",
    "\n",
    "# Let's define our LO\n",
    "LO = lambda W, X, b: sigmoid(np.dot(W, X) + b)\n",
    "\n",
    "for i in X:\n",
    "    print(\"[A, B] =\", i, \" --> L(A, B)=\", int(np.around( LO(W, i, b), decimals=1)) )"
   ]
  },
  {
   "cell_type": "markdown",
   "metadata": {
    "slideshow": {
     "slide_type": "fragment"
    }
   },
   "source": [
    "$\\textbf{Problem Statement}$: Write the python code for $or$ and $xor$ logical operations.\n",
    "\n",
    "$\\textbf{Hint}$: Note that $\\sigma(x)$ is monotonic, while $xor$ is not!"
   ]
  },
  {
   "cell_type": "markdown",
   "metadata": {
    "slideshow": {
     "slide_type": "slide"
    }
   },
   "source": [
    "<h3 align=\"center\">Problem 4: Inverse of a Matrix</h3>\n",
    "\n",
    "Let's consider a matrix:\n",
    "\n",
    "$$A = \\begin{bmatrix}\n",
    "1 &  0 & 2 \\\\\n",
    "2 & -1 & 1 \\\\\n",
    "1 &  3 & -1 \\\\\n",
    "\\end{bmatrix};$$\n",
    "\n",
    "Find the inverse matrix $A^{-1}$ using:\n",
    "\n",
    "(a) Gauss–Jordan elimination algorithm.\n",
    "\n",
    "(b) Cayley–Hamilton method.\n",
    "\n",
    "$\\textbf{Hint}$ You can follow this link: \n",
    "https://www.slideshare.net/AdilAslam4/cayleyhamilton-theorem-with-examples"
   ]
  },
  {
   "cell_type": "markdown",
   "metadata": {
    "slideshow": {
     "slide_type": "slide"
    }
   },
   "source": [
    "<h3 align=\"center\">Problem 5: SVD Computation </h3>\n",
    "\n",
    "Compute the SVD for the following matrix: \n",
    "\n",
    "$$A = \\begin{bmatrix}\n",
    "4 & 2 &  2 & 1\\\\ \n",
    "0 & 2 & -1 & -2 \n",
    "\\end{bmatrix};$$\n",
    "\n",
    "$\\textbf{Note}$: Manual calculations only!\n",
    "\n",
    "\n"
   ]
  },
  {
   "cell_type": "markdown",
   "metadata": {
    "slideshow": {
     "slide_type": "slide"
    }
   },
   "source": [
    "<h3 align=\"center\">Problem 6: PCA of a Single Image </h3>\n",
    "\n",
    "\n",
    "Given a picture size of $512$ by $512$:\n",
    "<img src=\"Data/Homework_01_Alina_Kastornaya.png\" width=\"512\" height=\"512\" alt=\"Example\" />\n",
    "\n",
    "1. Convert it to **graysale**;\n",
    "2. Present the data in a matrix form $X \\in \\mathbb{R}^{512 \\times 512}$;\n",
    "3. Apply PCA to compress the image using the **proportion of total variance** $\\epsilon$ equal to $70\\%$."
   ]
  },
  {
   "cell_type": "code",
   "execution_count": null,
   "metadata": {},
   "outputs": [],
   "source": [
    "# Hint for gralysale\n",
    "\n",
    "import numpy as np\n",
    "import matplotlib.pyplot as plt\n",
    "import matplotlib.image as image\n",
    "\n",
    "def rgb2gray(rgb):\n",
    "    return np.dot(rgb[...,:3], [0.299, 0.587, 0.144])\n",
    "\n",
    "img = image.imread('Data/Homework_01_Alina_Kastornaya.png')"
   ]
  }
 ],
 "metadata": {
  "celltoolbar": "Slideshow",
  "kernelspec": {
   "display_name": "Python 3",
   "language": "python",
   "name": "python3"
  },
  "language_info": {
   "codemirror_mode": {
    "name": "ipython",
    "version": 3
   },
   "file_extension": ".py",
   "mimetype": "text/x-python",
   "name": "python",
   "nbconvert_exporter": "python",
   "pygments_lexer": "ipython3",
   "version": "3.7.3"
  }
 },
 "nbformat": 4,
 "nbformat_minor": 2
}
